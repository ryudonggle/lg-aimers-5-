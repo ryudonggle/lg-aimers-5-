{
  "nbformat": 4,
  "nbformat_minor": 0,
  "metadata": {
    "colab": {
      "provenance": [],
      "collapsed_sections": [
        "EPcdJ5Egtd6_",
        "mLPSoP1Dtybm"
      ],
      "include_colab_link": true
    },
    "kernelspec": {
      "name": "python3",
      "display_name": "Python 3"
    },
    "language_info": {
      "name": "python"
    }
  },
  "cells": [
    {
      "cell_type": "markdown",
      "metadata": {
        "id": "view-in-github",
        "colab_type": "text"
      },
      "source": [
        "<a href=\"https://colab.research.google.com/github/ryudonggle/lg-aimers-5-/blob/main/Aimer_phase2_final_sub.ipynb\" target=\"_parent\"><img src=\"https://colab.research.google.com/assets/colab-badge.svg\" alt=\"Open In Colab\"/></a>"
      ]
    },
    {
      "cell_type": "markdown",
      "source": [
        "### 최종\n"
      ],
      "metadata": {
        "id": "EPcdJ5Egtd6_"
      }
    },
    {
      "cell_type": "code",
      "source": [
        "!pip install --upgrade pip\n",
        "\n",
        "!pip install numpy==1.26.4\n",
        "!pip install pandas==2.1.4\n",
        "!pip install scikit-learn==1.3.2\n",
        "!pip install catboost==1.2.5\n",
        "!pip install optuna==3.6.1\n",
        "!pip install xgboost==2.1.1\n",
        "!pip install lightgbm==4.4.0"
      ],
      "metadata": {
        "id": "CvqQFVHDte8g"
      },
      "execution_count": null,
      "outputs": []
    },
    {
      "cell_type": "code",
      "source": [
        "import os\n",
        "from pprint import pprint\n",
        "\n",
        "import numpy as np\n",
        "import pandas as pd\n",
        "from sklearn.ensemble import RandomForestClassifier\n",
        "from sklearn.metrics import (\n",
        "    accuracy_score,\n",
        "    classification_report,\n",
        "    confusion_matrix,\n",
        "    f1_score,\n",
        "    precision_score,\n",
        "    recall_score,\n",
        ")\n",
        "from sklearn.model_selection import train_test_split\n",
        "from tqdm import tqdm"
      ],
      "metadata": {
        "id": "CqrR9m28tiG6"
      },
      "execution_count": null,
      "outputs": []
    },
    {
      "cell_type": "markdown",
      "source": [
        "기존 데이터 EDA 과정에서 특정 열 이후로 시프트 된 것으로 추정, 수정한 데이터 사용"
      ],
      "metadata": {
        "id": "21D-MDcquBGS"
      }
    },
    {
      "cell_type": "code",
      "source": [
        "ROOT_DIR = \"data\"\n",
        "RANDOM_STATE = 110\n",
        "\n",
        "# 데이터 읽어오기\n",
        "df = pd.read_csv(os.path.join(ROOT_DIR, \"new_train.csv\"))\n",
        "test_df = pd.read_csv(os.path.join(ROOT_DIR, \"new_test.csv\"))"
      ],
      "metadata": {
        "id": "gm-Xz0GAti8r"
      },
      "execution_count": null,
      "outputs": []
    },
    {
      "cell_type": "code",
      "source": [
        "#결측치 제거 - 모든 행이 결측치면 삭제\n",
        "dr=df.isnull().sum().sort_values()[-281:].index\n",
        "df.drop(columns=dr,inplace=True)\n",
        "test_df.drop(columns=dr,inplace=True)\n",
        "\n",
        "#고유값이 하나면 모델 학습에 영향을 주지 못할 것이라 판단, 삭제\n",
        "dr_0=df.nunique().sort_values()[:64].index\n",
        "df.drop(columns=dr_0,inplace=True)\n",
        "test_df.drop(columns=dr_0,inplace=True)"
      ],
      "metadata": {
        "id": "6NXwtkMotjwg"
      },
      "execution_count": null,
      "outputs": []
    },
    {
      "cell_type": "code",
      "source": [
        "# 파생 변수 생성\n",
        "\n",
        "# 합계/평균/최대/최소/표준편차/분산/비율\n",
        "\n",
        "#Dam\n",
        "df['MEAN DISCHARGED TIME OF RESIN_Dam']=df[['DISCHARGED TIME OF RESIN(Stage1) Collect Result_Dam',\n",
        "       'DISCHARGED TIME OF RESIN(Stage2) Collect Result_Dam',\n",
        "       'DISCHARGED TIME OF RESIN(Stage3) Collect Result_Dam']].mean(axis=1)\n",
        "df['STD DISCHARGED TIME OF RESIN_Dam']=df[['DISCHARGED TIME OF RESIN(Stage1) Collect Result_Dam',\n",
        "       'DISCHARGED TIME OF RESIN(Stage2) Collect Result_Dam',\n",
        "       'DISCHARGED TIME OF RESIN(Stage3) Collect Result_Dam']].std(axis=1)\n",
        "df['SUM DISCHARGED TIME OF RESIN_Dam']=df[['DISCHARGED TIME OF RESIN(Stage1) Collect Result_Dam',\n",
        "       'DISCHARGED TIME OF RESIN(Stage2) Collect Result_Dam',\n",
        "       'DISCHARGED TIME OF RESIN(Stage3) Collect Result_Dam']].sum(axis=1)\n",
        "\n",
        "df['MEAN Dispense Volume_Dam']=df[['Dispense Volume(Stage1) Collect Result_Dam',\n",
        "       'Dispense Volume(Stage2) Collect Result_Dam',\n",
        "       'Dispense Volume(Stage3) Collect Result_Dam']].mean(axis=1)\n",
        "df['STD Dispense Volume_Dam']=df[['Dispense Volume(Stage1) Collect Result_Dam',\n",
        "       'Dispense Volume(Stage2) Collect Result_Dam',\n",
        "       'Dispense Volume(Stage3) Collect Result_Dam']].std(axis=1)\n",
        "df['SUM Dispense Volume_Dam']=df[['Dispense Volume(Stage1) Collect Result_Dam',\n",
        "       'Dispense Volume(Stage2) Collect Result_Dam',\n",
        "       'Dispense Volume(Stage3) Collect Result_Dam']].sum(axis=1)\n",
        "\n",
        "#비율 - 같은 용량이 나오는 데에 걸리는 시간\n",
        "df['DIV Dispense Volume(Stage1)_Dam']=df['DISCHARGED TIME OF RESIN(Stage1) Collect Result_Dam']/df['Dispense Volume(Stage1) Collect Result_Dam']\n",
        "df['DIV Dispense Volume(Stage2)_Dam']=df['DISCHARGED TIME OF RESIN(Stage2) Collect Result_Dam']/df['Dispense Volume(Stage2) Collect Result_Dam']\n",
        "df['DIV Dispense Volume(Stage3)_Dam']=df['DISCHARGED TIME OF RESIN(Stage3) Collect Result_Dam']/df['Dispense Volume(Stage3) Collect Result_Dam']\n",
        "\n",
        "#Fill1\n",
        "#합계/평균/최대/최소/표준편차/분산/비율\n",
        "\n",
        "df['MEAN DISCHARGED TIME OF RESIN_Fill1']=df[['DISCHARGED TIME OF RESIN(Stage1) Collect Result_Fill1',\n",
        "       'DISCHARGED TIME OF RESIN(Stage2) Collect Result_Fill1',\n",
        "       'DISCHARGED TIME OF RESIN(Stage3) Collect Result_Fill1']].mean(axis=1)\n",
        "df['STD DISCHARGED TIME OF RESIN_Fill1']=df[['DISCHARGED TIME OF RESIN(Stage1) Collect Result_Fill1',\n",
        "       'DISCHARGED TIME OF RESIN(Stage2) Collect Result_Fill1',\n",
        "       'DISCHARGED TIME OF RESIN(Stage3) Collect Result_Fill1']].std(axis=1)\n",
        "df['SUM DISCHARGED TIME OF RESIN_Fill1']=df[['DISCHARGED TIME OF RESIN(Stage1) Collect Result_Fill1',\n",
        "       'DISCHARGED TIME OF RESIN(Stage2) Collect Result_Fill1',\n",
        "       'DISCHARGED TIME OF RESIN(Stage3) Collect Result_Fill1']].sum(axis=1)\n",
        "\n",
        "df['MEAN Dispense Volume_Fill1']=df[['Dispense Volume(Stage1) Collect Result_Fill1',\n",
        "       'Dispense Volume(Stage2) Collect Result_Fill1',\n",
        "       'Dispense Volume(Stage3) Collect Result_Fill1']].mean(axis=1)\n",
        "df['STD Dispense Volume_Fill1']=df[['Dispense Volume(Stage1) Collect Result_Fill1',\n",
        "       'Dispense Volume(Stage2) Collect Result_Fill1',\n",
        "       'Dispense Volume(Stage3) Collect Result_Fill1']].std(axis=1)\n",
        "df['SUM Dispense Volume_Fill1']=df[['Dispense Volume(Stage1) Collect Result_Fill1',\n",
        "       'Dispense Volume(Stage2) Collect Result_Fill1',\n",
        "       'Dispense Volume(Stage3) Collect Result_Fill1']].sum(axis=1)\n",
        "\n",
        "#비율 - 같은 용량이 나오는 데에 걸리는 시간\n",
        "df['DIV Dispense Volume(Stage1)_Fill1']=df['DISCHARGED TIME OF RESIN(Stage1) Collect Result_Fill1']/df['Dispense Volume(Stage1) Collect Result_Fill1']\n",
        "df['DIV Dispense Volume(Stage2)_Fill1']=df['DISCHARGED TIME OF RESIN(Stage2) Collect Result_Fill1']/df['Dispense Volume(Stage2) Collect Result_Fill1']\n",
        "df['DIV Dispense Volume(Stage3)_Fill1']=df['DISCHARGED TIME OF RESIN(Stage3) Collect Result_Fill1']/df['Dispense Volume(Stage3) Collect Result_Fill1']\n",
        "\n",
        "#Thickness(변화가 있는지도 비율로 보면 좋을듯)\n",
        "\n",
        "df['SUM THICKNESS_Dam']=df[['THICKNESS 1 Collect Result_Dam', 'THICKNESS 2 Collect Result_Dam','THICKNESS 3 Collect Result_Dam']].sum(axis=1)\n",
        "df['MEAN THICKNESS_Dam']=df[['THICKNESS 1 Collect Result_Dam', 'THICKNESS 2 Collect Result_Dam','THICKNESS 3 Collect Result_Dam']].mean(axis=1)\n",
        "df['STD THICKNESS_Dam']=df[['THICKNESS 1 Collect Result_Dam', 'THICKNESS 2 Collect Result_Dam','THICKNESS 3 Collect Result_Dam']].std(axis=1)\n",
        "\n",
        "df['DIV1 THICKNESS_Dam']=df['THICKNESS 2 Collect Result_Dam']/df['THICKNESS 1 Collect Result_Dam']\n",
        "df['DIV2 THICKNESS_Dam']=df['THICKNESS 3 Collect Result_Dam']/df['THICKNESS 2 Collect Result_Dam']\n",
        "\n",
        "#1st/2nd/3rd - 'THICKNESS 1 Collect Result_Dam', 'THICKNESS 2 Collect Result_Dam''THICKNESS 3 Collect Result_Dam'\n",
        "df['SUM Pressure_AutoClave']=df[['1st Pressure Collect Result_AutoClave', '2nd Pressure Collect Result_AutoClave', '3rd Pressure Collect Result_AutoClave']].sum(axis=1)\n",
        "df['MEAN Pressure_AutoClave']=df[['1st Pressure Collect Result_AutoClave', '2nd Pressure Collect Result_AutoClave', '3rd Pressure Collect Result_AutoClave']].mean(axis=1)\n",
        "df['STD Pressure_AutoClave']=df[['1st Pressure Collect Result_AutoClave', '2nd Pressure Collect Result_AutoClave', '3rd Pressure Collect Result_AutoClave']].std(axis=1)\n",
        "\n",
        "df['DIV1 Pressure_AutoClave']=df['2nd Pressure Collect Result_AutoClave']/df['1st Pressure Collect Result_AutoClave']\n",
        "df['DIV2 Pressure_AutoClave']=df['3rd Pressure Collect Result_AutoClave']/df['2nd Pressure Collect Result_AutoClave']"
      ],
      "metadata": {
        "id": "IF37_IDRtmg2"
      },
      "execution_count": null,
      "outputs": []
    },
    {
      "cell_type": "code",
      "source": [
        "#합계/평균/최대/최소/표준편차/분산/비율\n",
        "#Dam\n",
        "test_df['MEAN DISCHARGED TIME OF RESIN_Dam']=test_df[['DISCHARGED TIME OF RESIN(Stage1) Collect Result_Dam',\n",
        "       'DISCHARGED TIME OF RESIN(Stage2) Collect Result_Dam',\n",
        "       'DISCHARGED TIME OF RESIN(Stage3) Collect Result_Dam']].mean(axis=1)\n",
        "test_df['STD DISCHARGED TIME OF RESIN_Dam']=test_df[['DISCHARGED TIME OF RESIN(Stage1) Collect Result_Dam',\n",
        "       'DISCHARGED TIME OF RESIN(Stage2) Collect Result_Dam',\n",
        "       'DISCHARGED TIME OF RESIN(Stage3) Collect Result_Dam']].std(axis=1)\n",
        "test_df['SUM DISCHARGED TIME OF RESIN_Dam']=test_df[['DISCHARGED TIME OF RESIN(Stage1) Collect Result_Dam',\n",
        "       'DISCHARGED TIME OF RESIN(Stage2) Collect Result_Dam',\n",
        "       'DISCHARGED TIME OF RESIN(Stage3) Collect Result_Dam']].sum(axis=1)\n",
        "\n",
        "test_df['MEAN Dispense Volume_Dam']=test_df[['Dispense Volume(Stage1) Collect Result_Dam',\n",
        "       'Dispense Volume(Stage2) Collect Result_Dam',\n",
        "       'Dispense Volume(Stage3) Collect Result_Dam']].mean(axis=1)\n",
        "test_df['STD Dispense Volume_Dam']=test_df[['Dispense Volume(Stage1) Collect Result_Dam',\n",
        "       'Dispense Volume(Stage2) Collect Result_Dam',\n",
        "       'Dispense Volume(Stage3) Collect Result_Dam']].std(axis=1)\n",
        "test_df['SUM Dispense Volume_Dam']=test_df[['Dispense Volume(Stage1) Collect Result_Dam',\n",
        "       'Dispense Volume(Stage2) Collect Result_Dam',\n",
        "       'Dispense Volume(Stage3) Collect Result_Dam']].sum(axis=1)\n",
        "\n",
        "#비율 - 같은 용량이 나오는 데에 걸리는 시간\n",
        "test_df['DIV Dispense Volume(Stage1)_Dam']=test_df['DISCHARGED TIME OF RESIN(Stage1) Collect Result_Dam']/test_df['Dispense Volume(Stage1) Collect Result_Dam']\n",
        "test_df['DIV Dispense Volume(Stage2)_Dam']=test_df['DISCHARGED TIME OF RESIN(Stage2) Collect Result_Dam']/test_df['Dispense Volume(Stage2) Collect Result_Dam']\n",
        "test_df['DIV Dispense Volume(Stage3)_Dam']=test_df['DISCHARGED TIME OF RESIN(Stage3) Collect Result_Dam']/test_df['Dispense Volume(Stage3) Collect Result_Dam']\n",
        "\n",
        "#Fill1\n",
        "#합계/평균/최대/최소/표준편차/분산/비율\n",
        "\n",
        "test_df['MEAN DISCHARGED TIME OF RESIN_Fill1']=test_df[['DISCHARGED TIME OF RESIN(Stage1) Collect Result_Fill1',\n",
        "       'DISCHARGED TIME OF RESIN(Stage2) Collect Result_Fill1',\n",
        "       'DISCHARGED TIME OF RESIN(Stage3) Collect Result_Fill1']].mean(axis=1)\n",
        "test_df['STD DISCHARGED TIME OF RESIN_Fill1']=test_df[['DISCHARGED TIME OF RESIN(Stage1) Collect Result_Fill1',\n",
        "       'DISCHARGED TIME OF RESIN(Stage2) Collect Result_Fill1',\n",
        "       'DISCHARGED TIME OF RESIN(Stage3) Collect Result_Fill1']].std(axis=1)\n",
        "test_df['SUM DISCHARGED TIME OF RESIN_Fill1']=test_df[['DISCHARGED TIME OF RESIN(Stage1) Collect Result_Fill1',\n",
        "       'DISCHARGED TIME OF RESIN(Stage2) Collect Result_Fill1',\n",
        "       'DISCHARGED TIME OF RESIN(Stage3) Collect Result_Fill1']].sum(axis=1)\n",
        "\n",
        "test_df['MEAN Dispense Volume_Fill1']=test_df[['Dispense Volume(Stage1) Collect Result_Fill1',\n",
        "       'Dispense Volume(Stage2) Collect Result_Fill1',\n",
        "       'Dispense Volume(Stage3) Collect Result_Fill1']].mean(axis=1)\n",
        "test_df['STD Dispense Volume_Fill1']=test_df[['Dispense Volume(Stage1) Collect Result_Fill1',\n",
        "       'Dispense Volume(Stage2) Collect Result_Fill1',\n",
        "       'Dispense Volume(Stage3) Collect Result_Fill1']].std(axis=1)\n",
        "test_df['SUM Dispense Volume_Fill1']=test_df[['Dispense Volume(Stage1) Collect Result_Fill1',\n",
        "       'Dispense Volume(Stage2) Collect Result_Fill1',\n",
        "       'Dispense Volume(Stage3) Collect Result_Fill1']].sum(axis=1)\n",
        "\n",
        "#비율 - 같은 용량이 나오는 데에 걸리는 시간\n",
        "test_df['DIV Dispense Volume(Stage1)_Fill1']=test_df['DISCHARGED TIME OF RESIN(Stage1) Collect Result_Fill1']/test_df['Dispense Volume(Stage1) Collect Result_Fill1']\n",
        "test_df['DIV Dispense Volume(Stage2)_Fill1']=test_df['DISCHARGED TIME OF RESIN(Stage2) Collect Result_Fill1']/test_df['Dispense Volume(Stage2) Collect Result_Fill1']\n",
        "test_df['DIV Dispense Volume(Stage3)_Fill1']=test_df['DISCHARGED TIME OF RESIN(Stage3) Collect Result_Fill1']/test_df['Dispense Volume(Stage3) Collect Result_Fill1']\n",
        "\n",
        "#Thickness(변화가 있는지도 비율로 보면 좋을듯)\n",
        "\n",
        "test_df['SUM THICKNESS_Dam']=test_df[['THICKNESS 1 Collect Result_Dam', 'THICKNESS 2 Collect Result_Dam','THICKNESS 3 Collect Result_Dam']].sum(axis=1)\n",
        "test_df['MEAN THICKNESS_Dam']=test_df[['THICKNESS 1 Collect Result_Dam', 'THICKNESS 2 Collect Result_Dam','THICKNESS 3 Collect Result_Dam']].mean(axis=1)\n",
        "test_df['STD THICKNESS_Dam']=test_df[['THICKNESS 1 Collect Result_Dam', 'THICKNESS 2 Collect Result_Dam','THICKNESS 3 Collect Result_Dam']].std(axis=1)\n",
        "\n",
        "test_df['DIV1 THICKNESS_Dam']=test_df['THICKNESS 2 Collect Result_Dam']/test_df['THICKNESS 1 Collect Result_Dam']\n",
        "test_df['DIV2 THICKNESS_Dam']=test_df['THICKNESS 3 Collect Result_Dam']/test_df['THICKNESS 2 Collect Result_Dam']\n",
        "\n",
        "#1st/2nd/3rd - 'THICKNESS 1 Collect Result_Dam', 'THICKNESS 2 Collect Result_Dam''THICKNESS 3 Collect Result_Dam'\n",
        "test_df['SUM Pressure_AutoClave']=test_df[['1st Pressure Collect Result_AutoClave', '2nd Pressure Collect Result_AutoClave', '3rd Pressure Collect Result_AutoClave']].sum(axis=1)\n",
        "test_df['MEAN Pressure_AutoClave']=test_df[['1st Pressure Collect Result_AutoClave', '2nd Pressure Collect Result_AutoClave', '3rd Pressure Collect Result_AutoClave']].mean(axis=1)\n",
        "test_df['STD Pressure_AutoClave']=test_df[['1st Pressure Collect Result_AutoClave', '2nd Pressure Collect Result_AutoClave', '3rd Pressure Collect Result_AutoClave']].std(axis=1)\n",
        "\n",
        "test_df['DIV1 Pressure_AutoClave']=test_df['2nd Pressure Collect Result_AutoClave']/test_df['1st Pressure Collect Result_AutoClave']\n",
        "test_df['DIV2 Pressure_AutoClave']=test_df['3rd Pressure Collect Result_AutoClave']/test_df['2nd Pressure Collect Result_AutoClave']"
      ],
      "metadata": {
        "id": "csm13fcUtokr"
      },
      "execution_count": null,
      "outputs": []
    },
    {
      "cell_type": "code",
      "source": [
        "# 0으로 나누어 생기 nan값 0으로 처리\n",
        "df['DIV1 THICKNESS_Dam']=df['DIV1 THICKNESS_Dam'].fillna(0)\n",
        "df['DIV2 THICKNESS_Dam']=df['DIV2 THICKNESS_Dam'].fillna(0)\n",
        "\n",
        "test_df['DIV1 THICKNESS_Dam']=test_df['DIV1 THICKNESS_Dam'].fillna(0)\n",
        "test_df['DIV2 THICKNESS_Dam']=test_df['DIV2 THICKNESS_Dam'].fillna(0)\n",
        "print(df['DIV1 THICKNESS_Dam'].isna().sum()) #확인"
      ],
      "metadata": {
        "id": "DY78PzMTtpox"
      },
      "execution_count": null,
      "outputs": []
    },
    {
      "cell_type": "code",
      "source": [
        "# 사용할 컬럼\n",
        "\n",
        "cols = [\n",
        "\n",
        "        'Equipment_Dam', 'Model.Suffix_Dam', 'Workorder_Dam',\n",
        "       'CURE END POSITION X Collect Result_Dam',\n",
        "       'CURE END POSITION Z Collect Result_Dam',\n",
        "       'DISCHARGED TIME OF RESIN(Stage1) Collect Result_Dam',\n",
        "       'DISCHARGED TIME OF RESIN(Stage2) Collect Result_Dam',\n",
        "       'DISCHARGED TIME OF RESIN(Stage3) Collect Result_Dam',\n",
        "       'Dispense Volume(Stage1) Collect Result_Dam',\n",
        "       'Dispense Volume(Stage2) Collect Result_Dam',\n",
        "       'Dispense Volume(Stage3) Collect Result_Dam',\n",
        "       'HEAD NORMAL COORDINATE X AXIS(Stage1) Collect Result_Dam',\n",
        "       'HEAD NORMAL COORDINATE X AXIS(Stage2) Collect Result_Dam',\n",
        "       'HEAD NORMAL COORDINATE X AXIS(Stage3) Collect Result_Dam',\n",
        "       'HEAD NORMAL COORDINATE Y AXIS(Stage1) Collect Result_Dam',\n",
        "       'HEAD NORMAL COORDINATE Y AXIS(Stage2) Collect Result_Dam',\n",
        "       'HEAD NORMAL COORDINATE Y AXIS(Stage3) Collect Result_Dam',\n",
        "       'HEAD NORMAL COORDINATE Z AXIS(Stage1) Collect Result_Dam',\n",
        "       'HEAD NORMAL COORDINATE Z AXIS(Stage2) Collect Result_Dam',\n",
        "       'HEAD NORMAL COORDINATE Z AXIS(Stage3) Collect Result_Dam',\n",
        "       'Machine Tact time Collect Result_Dam',\n",
        "       'Production Qty Collect Result_Dam', 'Receip No Collect Result_Dam',\n",
        "       'Stage1 Circle1 Distance Speed Collect Result_Dam',\n",
        "       'Stage1 Line1 Distance Speed Collect Result_Dam',\n",
        "       'Stage2 Circle1 Distance Speed Collect Result_Dam',\n",
        "       'Stage2 Line1 Distance Speed Collect Result_Dam',\n",
        "       'Stage3 Circle1 Distance Speed Collect Result_Dam',\n",
        "       'Stage3 Line1 Distance Speed Collect Result_Dam',\n",
        "       'Stage3 Line3 Distance Speed Collect Result_Dam',\n",
        "       'THICKNESS 1 Collect Result_Dam', 'THICKNESS 2 Collect Result_Dam',\n",
        "       'THICKNESS 3 Collect Result_Dam',\n",
        "       '1st Pressure Collect Result_AutoClave',\n",
        "       '1st Pressure 1st Pressure Unit Time_AutoClave',\n",
        "       '2nd Pressure Collect Result_AutoClave',\n",
        "       '2nd Pressure Unit Time_AutoClave',\n",
        "       '3rd Pressure Collect Result_AutoClave',\n",
        "       '3rd Pressure Unit Time_AutoClave',\n",
        "       'Chamber Temp. Collect Result_AutoClave',\n",
        "       'Chamber Temp. Unit Time_AutoClave',\n",
        "       'Chamber Temp. Judge Value_AutoClave',\n",
        "       'DISCHARGED SPEED OF RESIN Collect Result_Fill1',\n",
        "       'DISCHARGED TIME OF RESIN(Stage1) Collect Result_Fill1',\n",
        "       'DISCHARGED TIME OF RESIN(Stage2) Collect Result_Fill1',\n",
        "       'DISCHARGED TIME OF RESIN(Stage3) Collect Result_Fill1',\n",
        "       'Dispense Volume(Stage1) Collect Result_Fill1',\n",
        "       'Dispense Volume(Stage2) Collect Result_Fill1',\n",
        "       'Dispense Volume(Stage3) Collect Result_Fill1',\n",
        "       'HEAD NORMAL COORDINATE X AXIS(Stage2) Collect Result_Fill1',\n",
        "       'HEAD NORMAL COORDINATE X AXIS(Stage3) Collect Result_Fill1',\n",
        "       'HEAD NORMAL COORDINATE Y AXIS(Stage1) Collect Result_Fill1',\n",
        "       'HEAD NORMAL COORDINATE Y AXIS(Stage2) Collect Result_Fill1',\n",
        "       'HEAD NORMAL COORDINATE Y AXIS(Stage3) Collect Result_Fill1',\n",
        "       'HEAD NORMAL COORDINATE Z AXIS(Stage2) Collect Result_Fill1',\n",
        "       'HEAD NORMAL COORDINATE Z AXIS(Stage3) Collect Result_Fill1',\n",
        "       'Head Purge Position Z Collect Result_Fill1',\n",
        "       'PalletID Collect Result_Fill1',\n",
        "       'CURE END POSITION X Collect Result_Fill2',\n",
        "       'CURE END POSITION Z Collect Result_Fill2',\n",
        "       'CURE SPEED Collect Result_Fill2',\n",
        "       'CURE STANDBY POSITION Z Collect Result_Fill2',\n",
        "       'CURE START POSITION X Collect Result_Fill2',\n",
        "       'CURE START POSITION Z Collect Result_Fill2',\n",
        "       'HEAD NORMAL COORDINATE X AXIS(Stage2) Collect Result_Fill2',\n",
        "       'HEAD NORMAL COORDINATE X AXIS(Stage3) Collect Result_Fill2',\n",
        "       'HEAD NORMAL COORDINATE Y AXIS(Stage1) Collect Result_Fill2',\n",
        "       'HEAD NORMAL COORDINATE Y AXIS(Stage2) Collect Result_Fill2',\n",
        "       'HEAD NORMAL COORDINATE Z AXIS(Stage3) Collect Result_Fill2',\n",
        "       'Head Purge Position Z Collect Result_Fill2',\n",
        "       'Machine Tact time Collect Result_Fill2',\n",
        "       'PalletID Collect Result_Fill2', 'MEAN Dispense Volume_Dam',\n",
        "       'SUM Dispense Volume_Dam', 'DIV Dispense Volume(Stage2)_Dam',\n",
        "       'DIV Dispense Volume(Stage3)_Dam', 'SUM DISCHARGED TIME OF RESIN_Fill1',\n",
        "       'MEAN Dispense Volume_Fill1', 'STD Dispense Volume_Fill1',\n",
        "       'DIV1 THICKNESS_Dam', 'DIV2 THICKNESS_Dam', 'SUM Pressure_AutoClave',\n",
        "       'MEAN Pressure_AutoClave', 'DIV1 Pressure_AutoClave',\n",
        "       'DIV2 Pressure_AutoClave'\n",
        "\n",
        "       ]\n",
        "\n",
        "# 개수 확인 (85개)\n",
        "print(len(cols))"
      ],
      "metadata": {
        "id": "pbD2k8JGtrNN"
      },
      "execution_count": null,
      "outputs": []
    },
    {
      "cell_type": "code",
      "source": [
        "# target 컬럼 라벨링 처리\n",
        "\n",
        "df['target']=np.where(df['target']=='AbNormal',1,0)\n",
        "test_df['target']=np.where(test_df['target']=='AbNormal',1,0)"
      ],
      "metadata": {
        "id": "yNDso1MStsOI"
      },
      "execution_count": null,
      "outputs": []
    },
    {
      "cell_type": "code",
      "source": [
        "# 데이터 분할 및 복제\n",
        "\n",
        "X=df[cols]\n",
        "y=df[['target']]\n",
        "test_x=test_df.drop(columns=['Set ID','target'])\n",
        "\n",
        "input_X = X.copy()\n",
        "input_y = y.copy()\n",
        "input_X_test = test_x.copy()\n",
        "input_X_test=input_X_test[cols]"
      ],
      "metadata": {
        "id": "0jNIDvfXttBv"
      },
      "execution_count": null,
      "outputs": []
    },
    {
      "cell_type": "code",
      "source": [
        "# 제출 데이터 불러오기\n",
        "\n",
        "sub = pd.read_csv(\"submission.csv\")"
      ],
      "metadata": {
        "id": "CcCnHH6jtt95"
      },
      "execution_count": null,
      "outputs": []
    },
    {
      "cell_type": "markdown",
      "source": [
        "### 모델 학습\n",
        "\n",
        "선정 모델 : LightGBM\n",
        "\n",
        "이유\n",
        "\n",
        "1. Gradient Boosting 알고리즘 기반으로 복잡한 데이터셋에서도 효과적으로 잘 작동하고 높은 예측 정확도를 보임\n",
        "\n",
        "2. 데이터와 피처를 매우 빠르게 처리\n",
        "\n",
        "3. 범주형 데이터 임의 처리\n",
        "\n",
        "4. 하이퍼파라미터 조정이 유연하여 모델 성능을 최적화가 가능하여 성능을 더 세밀하게 조정 가능\n",
        "\n",
        "5. 빠른 학습 시간을 자랑"
      ],
      "metadata": {
        "id": "mLPSoP1Dtybm"
      }
    },
    {
      "cell_type": "code",
      "source": [
        "# 모델 학습 및 예측\n",
        "\n",
        "import lightgbm as lgb\n",
        "\n",
        "input_X = X.copy()\n",
        "input_y = y.copy()\n",
        "input_X_test = test_x.copy()\n",
        "input_X_test=input_X_test[cols]\n",
        "\n",
        "# 범주형 피처 인덱스 리스트 작성\n",
        "cat_features = input_X.select_dtypes(include=['object']).columns.tolist()\n",
        "\n",
        "# object 타입을 category 타입으로 변환\n",
        "for col in cat_features:\n",
        "    input_X[col] = input_X[col].astype('category')\n",
        "    input_X_test[col] = input_X_test[col].astype('category')\n",
        "\n",
        "model = lgb.LGBMClassifier( learning_rate=0.019048936944048345, random_state=42, verbose=-1,\n",
        "                               n_estimators = 481, num_leaves = 100, max_depth = 13, min_child_samples = 74, subsample = 0.9422125802598914, colsample_bytree = 0.53092502712293,\n",
        "                                reg_alpha = 2.475051708653131, reg_lambda = 2.5852112412936266, scale_pos_weight = 6.78337274078157\n",
        "                               )\n",
        "\n",
        "model.fit(input_X, input_y, categorical_feature=cat_features)\n",
        "\n",
        "y_pred = model.predict(input_X_test)\n",
        "\n",
        "# predictions를 sub 데이터프레임의 'target' 컬럼에 저장\n",
        "sub['target'] = y_pred\n",
        "\n",
        "# 결과 확인\n",
        "sub['target'].replace({0:'Normal',1:'AbNormal'},inplace=True)\n",
        "sub['target'].value_counts()"
      ],
      "metadata": {
        "id": "6faJuLWqtzGv"
      },
      "execution_count": null,
      "outputs": []
    },
    {
      "cell_type": "code",
      "source": [
        "# 추가 핸드라벨링\n",
        "\n",
        "Check = pd.read_csv(os.path.join(ROOT_DIR, \"new_test.csv\"))\n",
        "\n",
        "Check['Equipment_Dam']=Check['Equipment_Dam'].apply(lambda x: x[-1])\n",
        "Check['Equipment_Fill1']=Check['Equipment_Fill1'].apply(lambda x: x[-1])\n",
        "Check['Equipment_Fill2']=Check['Equipment_Fill2'].apply(lambda x: x[-1])\n",
        "\n",
        "Check.loc[((Check['Receip No Collect Result_Dam']!=Check['Receip No Collect Result_Fill1'])|(Check['Receip No Collect Result_Dam']!=Check['Receip No Collect Result_Fill2'])|(Check['Receip No Collect Result_Fill1']!=Check['Receip No Collect Result_Fill2'])|(Check['Production Qty Collect Result_Dam']!=Check['Production Qty Collect Result_Fill1'])|(Check['Production Qty Collect Result_Dam']!=Check['Production Qty Collect Result_Fill2'])|(Check['Production Qty Collect Result_Fill1']!=Check['Production Qty Collect Result_Fill2'])|(Check['PalletID Collect Result_Dam']!=Check['PalletID Collect Result_Fill1'])|(Check['PalletID Collect Result_Dam']!=Check['PalletID Collect Result_Fill2'])|(Check['PalletID Collect Result_Fill1']!=Check['PalletID Collect Result_Fill2'])|(Check['Equipment_Dam']!=Check['Equipment_Fill1'])|(Check['Equipment_Dam']!=Check['Equipment_Fill2'])|(Check['Equipment_Fill1']!=Check['Equipment_Fill2']))].head(5)\n",
        "\n",
        "#몇개 바꿀 수 있는지 확인\n",
        "sub.loc[\n",
        "   Check.loc[((Check['Receip No Collect Result_Dam']!=Check['Receip No Collect Result_Fill1'])|(Check['Receip No Collect Result_Dam']!=Check['Receip No Collect Result_Fill2'])|(Check['Receip No Collect Result_Fill1']!=Check['Receip No Collect Result_Fill2'])|(Check['Production Qty Collect Result_Dam']!=Check['Production Qty Collect Result_Fill1'])|(Check['Production Qty Collect Result_Dam']!=Check['Production Qty Collect Result_Fill2'])|(Check['Production Qty Collect Result_Fill1']!=Check['Production Qty Collect Result_Fill2'])|(Check['PalletID Collect Result_Dam']!=Check['PalletID Collect Result_Fill1'])|(Check['PalletID Collect Result_Dam']!=Check['PalletID Collect Result_Fill2'])|(Check['PalletID Collect Result_Fill1']!=Check['PalletID Collect Result_Fill2'])|(Check['Equipment_Dam']!=Check['Equipment_Fill1'])|(Check['Equipment_Dam']!=Check['Equipment_Fill2'])|(Check['Equipment_Fill1']!=Check['Equipment_Fill2']))].index,'target'].value_counts()\n",
        "\n",
        "#수정\n",
        "sub.loc[\n",
        "   Check.loc[((Check['Receip No Collect Result_Dam']!=Check['Receip No Collect Result_Fill1'])|(Check['Receip No Collect Result_Dam']!=Check['Receip No Collect Result_Fill2'])|(Check['Receip No Collect Result_Fill1']!=Check['Receip No Collect Result_Fill2'])|(Check['Production Qty Collect Result_Dam']!=Check['Production Qty Collect Result_Fill1'])|(Check['Production Qty Collect Result_Dam']!=Check['Production Qty Collect Result_Fill2'])|(Check['Production Qty Collect Result_Fill1']!=Check['Production Qty Collect Result_Fill2'])|(Check['PalletID Collect Result_Dam']!=Check['PalletID Collect Result_Fill1'])|(Check['PalletID Collect Result_Dam']!=Check['PalletID Collect Result_Fill2'])|(Check['PalletID Collect Result_Fill1']!=Check['PalletID Collect Result_Fill2'])|(Check['Equipment_Dam']!=Check['Equipment_Fill1'])|(Check['Equipment_Dam']!=Check['Equipment_Fill2'])|(Check['Equipment_Fill1']!=Check['Equipment_Fill2']))].index,'target']='AbNormal'\n",
        "\n",
        "sub['target'].value_counts()"
      ],
      "metadata": {
        "id": "EyB5jqBmt0eZ"
      },
      "execution_count": null,
      "outputs": []
    },
    {
      "cell_type": "code",
      "source": [
        "# 제출 파일 저장\n",
        "sub.to_csv(\"submission.csv\", index=False)"
      ],
      "metadata": {
        "id": "3Pst7GQAt3MT"
      },
      "execution_count": null,
      "outputs": []
    }
  ]
}