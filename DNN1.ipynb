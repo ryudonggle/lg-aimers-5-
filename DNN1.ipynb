{
  "nbformat": 4,
  "nbformat_minor": 0,
  "metadata": {
    "colab": {
      "provenance": [],
      "gpuType": "T4",
      "authorship_tag": "ABX9TyMQ2JyA5rSLgRhRNnqJIMv1",
      "include_colab_link": true
    },
    "kernelspec": {
      "name": "python3",
      "display_name": "Python 3"
    },
    "language_info": {
      "name": "python"
    },
    "accelerator": "GPU"
  },
  "cells": [
    {
      "cell_type": "markdown",
      "metadata": {
        "id": "view-in-github",
        "colab_type": "text"
      },
      "source": [
        "<a href=\"https://colab.research.google.com/github/ryudonggle/lg-aimers-5-/blob/main/DNN1.ipynb\" target=\"_parent\"><img src=\"https://colab.research.google.com/assets/colab-badge.svg\" alt=\"Open In Colab\"/></a>"
      ]
    },
    {
      "cell_type": "code",
      "source": [
        "from google.colab import drive\n",
        "drive.mount('/content/drive')"
      ],
      "metadata": {
        "colab": {
          "base_uri": "https://localhost:8080/"
        },
        "id": "P1B6hR0wU8Rv",
        "outputId": "61d2917c-d01d-4536-83cc-7557c5c2615d"
      },
      "execution_count": 1,
      "outputs": [
        {
          "output_type": "stream",
          "name": "stdout",
          "text": [
            "Mounted at /content/drive\n"
          ]
        }
      ]
    },
    {
      "cell_type": "code",
      "source": [
        "import os\n",
        "from pprint import pprint\n",
        "\n",
        "import numpy as np\n",
        "import pandas as pd\n",
        "from sklearn.ensemble import RandomForestClassifier\n",
        "from sklearn.metrics import (\n",
        "    accuracy_score,\n",
        "    classification_report,\n",
        "    confusion_matrix,\n",
        "    f1_score,\n",
        "    precision_score,\n",
        "    recall_score,\n",
        ")\n",
        "from sklearn.model_selection import train_test_split\n",
        "from tqdm import tqdm"
      ],
      "metadata": {
        "id": "40uWsJzAU8xG"
      },
      "execution_count": 59,
      "outputs": []
    },
    {
      "cell_type": "code",
      "source": [
        "# Load data\n",
        "df = pd.read_csv(\"/content/drive/MyDrive/Colab Notebooks/lg aimers 5기/df_Equipment1.csv\")\n",
        "test_df = pd.read_csv('/content/drive/MyDrive/Colab Notebooks/lg aimers 5기/test_Equipment1.csv')\n",
        "sub = pd.read_csv('/content/drive/MyDrive/Colab Notebooks/lg aimers 5기/submission.csv')\n",
        "sub"
      ],
      "metadata": {
        "colab": {
          "base_uri": "https://localhost:8080/",
          "height": 423
        },
        "id": "nANU5XUlV2EX",
        "outputId": "6fa0947e-f737-4da4-dc65-0a613361ed4f"
      },
      "execution_count": 78,
      "outputs": [
        {
          "output_type": "execute_result",
          "data": {
            "text/plain": [
              "                                 Set ID  target\n",
              "0      0001be084fbc4aaa9d921f39e595961b     NaN\n",
              "1      0005bbd180064abd99e63f9ed3e1ac80     NaN\n",
              "2      000948934c4140d883d670adcb609584     NaN\n",
              "3      000a6bfd02874c6296dc7b2e9c5678a7     NaN\n",
              "4      0018e78ce91343678716e2ea27a51c95     NaN\n",
              "...                                 ...     ...\n",
              "17356  ffea508b59934d689b540f95eb3fa730     NaN\n",
              "17357  ffed8923c8a448a98afc641b770be153     NaN\n",
              "17358  fff1e73734da40adbe805359b3efb462     NaN\n",
              "17359  fff8e38bdd09470baf95f71e92075dec     NaN\n",
              "17360  fffa83e0a13d4c2db4fd8bf905b517d4     NaN\n",
              "\n",
              "[17361 rows x 2 columns]"
            ],
            "text/html": [
              "\n",
              "  <div id=\"df-23d80bf2-f964-4143-b5c2-d7e8718884c4\" class=\"colab-df-container\">\n",
              "    <div>\n",
              "<style scoped>\n",
              "    .dataframe tbody tr th:only-of-type {\n",
              "        vertical-align: middle;\n",
              "    }\n",
              "\n",
              "    .dataframe tbody tr th {\n",
              "        vertical-align: top;\n",
              "    }\n",
              "\n",
              "    .dataframe thead th {\n",
              "        text-align: right;\n",
              "    }\n",
              "</style>\n",
              "<table border=\"1\" class=\"dataframe\">\n",
              "  <thead>\n",
              "    <tr style=\"text-align: right;\">\n",
              "      <th></th>\n",
              "      <th>Set ID</th>\n",
              "      <th>target</th>\n",
              "    </tr>\n",
              "  </thead>\n",
              "  <tbody>\n",
              "    <tr>\n",
              "      <th>0</th>\n",
              "      <td>0001be084fbc4aaa9d921f39e595961b</td>\n",
              "      <td>NaN</td>\n",
              "    </tr>\n",
              "    <tr>\n",
              "      <th>1</th>\n",
              "      <td>0005bbd180064abd99e63f9ed3e1ac80</td>\n",
              "      <td>NaN</td>\n",
              "    </tr>\n",
              "    <tr>\n",
              "      <th>2</th>\n",
              "      <td>000948934c4140d883d670adcb609584</td>\n",
              "      <td>NaN</td>\n",
              "    </tr>\n",
              "    <tr>\n",
              "      <th>3</th>\n",
              "      <td>000a6bfd02874c6296dc7b2e9c5678a7</td>\n",
              "      <td>NaN</td>\n",
              "    </tr>\n",
              "    <tr>\n",
              "      <th>4</th>\n",
              "      <td>0018e78ce91343678716e2ea27a51c95</td>\n",
              "      <td>NaN</td>\n",
              "    </tr>\n",
              "    <tr>\n",
              "      <th>...</th>\n",
              "      <td>...</td>\n",
              "      <td>...</td>\n",
              "    </tr>\n",
              "    <tr>\n",
              "      <th>17356</th>\n",
              "      <td>ffea508b59934d689b540f95eb3fa730</td>\n",
              "      <td>NaN</td>\n",
              "    </tr>\n",
              "    <tr>\n",
              "      <th>17357</th>\n",
              "      <td>ffed8923c8a448a98afc641b770be153</td>\n",
              "      <td>NaN</td>\n",
              "    </tr>\n",
              "    <tr>\n",
              "      <th>17358</th>\n",
              "      <td>fff1e73734da40adbe805359b3efb462</td>\n",
              "      <td>NaN</td>\n",
              "    </tr>\n",
              "    <tr>\n",
              "      <th>17359</th>\n",
              "      <td>fff8e38bdd09470baf95f71e92075dec</td>\n",
              "      <td>NaN</td>\n",
              "    </tr>\n",
              "    <tr>\n",
              "      <th>17360</th>\n",
              "      <td>fffa83e0a13d4c2db4fd8bf905b517d4</td>\n",
              "      <td>NaN</td>\n",
              "    </tr>\n",
              "  </tbody>\n",
              "</table>\n",
              "<p>17361 rows × 2 columns</p>\n",
              "</div>\n",
              "    <div class=\"colab-df-buttons\">\n",
              "\n",
              "  <div class=\"colab-df-container\">\n",
              "    <button class=\"colab-df-convert\" onclick=\"convertToInteractive('df-23d80bf2-f964-4143-b5c2-d7e8718884c4')\"\n",
              "            title=\"Convert this dataframe to an interactive table.\"\n",
              "            style=\"display:none;\">\n",
              "\n",
              "  <svg xmlns=\"http://www.w3.org/2000/svg\" height=\"24px\" viewBox=\"0 -960 960 960\">\n",
              "    <path d=\"M120-120v-720h720v720H120Zm60-500h600v-160H180v160Zm220 220h160v-160H400v160Zm0 220h160v-160H400v160ZM180-400h160v-160H180v160Zm440 0h160v-160H620v160ZM180-180h160v-160H180v160Zm440 0h160v-160H620v160Z\"/>\n",
              "  </svg>\n",
              "    </button>\n",
              "\n",
              "  <style>\n",
              "    .colab-df-container {\n",
              "      display:flex;\n",
              "      gap: 12px;\n",
              "    }\n",
              "\n",
              "    .colab-df-convert {\n",
              "      background-color: #E8F0FE;\n",
              "      border: none;\n",
              "      border-radius: 50%;\n",
              "      cursor: pointer;\n",
              "      display: none;\n",
              "      fill: #1967D2;\n",
              "      height: 32px;\n",
              "      padding: 0 0 0 0;\n",
              "      width: 32px;\n",
              "    }\n",
              "\n",
              "    .colab-df-convert:hover {\n",
              "      background-color: #E2EBFA;\n",
              "      box-shadow: 0px 1px 2px rgba(60, 64, 67, 0.3), 0px 1px 3px 1px rgba(60, 64, 67, 0.15);\n",
              "      fill: #174EA6;\n",
              "    }\n",
              "\n",
              "    .colab-df-buttons div {\n",
              "      margin-bottom: 4px;\n",
              "    }\n",
              "\n",
              "    [theme=dark] .colab-df-convert {\n",
              "      background-color: #3B4455;\n",
              "      fill: #D2E3FC;\n",
              "    }\n",
              "\n",
              "    [theme=dark] .colab-df-convert:hover {\n",
              "      background-color: #434B5C;\n",
              "      box-shadow: 0px 1px 3px 1px rgba(0, 0, 0, 0.15);\n",
              "      filter: drop-shadow(0px 1px 2px rgba(0, 0, 0, 0.3));\n",
              "      fill: #FFFFFF;\n",
              "    }\n",
              "  </style>\n",
              "\n",
              "    <script>\n",
              "      const buttonEl =\n",
              "        document.querySelector('#df-23d80bf2-f964-4143-b5c2-d7e8718884c4 button.colab-df-convert');\n",
              "      buttonEl.style.display =\n",
              "        google.colab.kernel.accessAllowed ? 'block' : 'none';\n",
              "\n",
              "      async function convertToInteractive(key) {\n",
              "        const element = document.querySelector('#df-23d80bf2-f964-4143-b5c2-d7e8718884c4');\n",
              "        const dataTable =\n",
              "          await google.colab.kernel.invokeFunction('convertToInteractive',\n",
              "                                                    [key], {});\n",
              "        if (!dataTable) return;\n",
              "\n",
              "        const docLinkHtml = 'Like what you see? Visit the ' +\n",
              "          '<a target=\"_blank\" href=https://colab.research.google.com/notebooks/data_table.ipynb>data table notebook</a>'\n",
              "          + ' to learn more about interactive tables.';\n",
              "        element.innerHTML = '';\n",
              "        dataTable['output_type'] = 'display_data';\n",
              "        await google.colab.output.renderOutput(dataTable, element);\n",
              "        const docLink = document.createElement('div');\n",
              "        docLink.innerHTML = docLinkHtml;\n",
              "        element.appendChild(docLink);\n",
              "      }\n",
              "    </script>\n",
              "  </div>\n",
              "\n",
              "\n",
              "<div id=\"df-be094e4b-4010-4729-8931-6091a6064757\">\n",
              "  <button class=\"colab-df-quickchart\" onclick=\"quickchart('df-be094e4b-4010-4729-8931-6091a6064757')\"\n",
              "            title=\"Suggest charts\"\n",
              "            style=\"display:none;\">\n",
              "\n",
              "<svg xmlns=\"http://www.w3.org/2000/svg\" height=\"24px\"viewBox=\"0 0 24 24\"\n",
              "     width=\"24px\">\n",
              "    <g>\n",
              "        <path d=\"M19 3H5c-1.1 0-2 .9-2 2v14c0 1.1.9 2 2 2h14c1.1 0 2-.9 2-2V5c0-1.1-.9-2-2-2zM9 17H7v-7h2v7zm4 0h-2V7h2v10zm4 0h-2v-4h2v4z\"/>\n",
              "    </g>\n",
              "</svg>\n",
              "  </button>\n",
              "\n",
              "<style>\n",
              "  .colab-df-quickchart {\n",
              "      --bg-color: #E8F0FE;\n",
              "      --fill-color: #1967D2;\n",
              "      --hover-bg-color: #E2EBFA;\n",
              "      --hover-fill-color: #174EA6;\n",
              "      --disabled-fill-color: #AAA;\n",
              "      --disabled-bg-color: #DDD;\n",
              "  }\n",
              "\n",
              "  [theme=dark] .colab-df-quickchart {\n",
              "      --bg-color: #3B4455;\n",
              "      --fill-color: #D2E3FC;\n",
              "      --hover-bg-color: #434B5C;\n",
              "      --hover-fill-color: #FFFFFF;\n",
              "      --disabled-bg-color: #3B4455;\n",
              "      --disabled-fill-color: #666;\n",
              "  }\n",
              "\n",
              "  .colab-df-quickchart {\n",
              "    background-color: var(--bg-color);\n",
              "    border: none;\n",
              "    border-radius: 50%;\n",
              "    cursor: pointer;\n",
              "    display: none;\n",
              "    fill: var(--fill-color);\n",
              "    height: 32px;\n",
              "    padding: 0;\n",
              "    width: 32px;\n",
              "  }\n",
              "\n",
              "  .colab-df-quickchart:hover {\n",
              "    background-color: var(--hover-bg-color);\n",
              "    box-shadow: 0 1px 2px rgba(60, 64, 67, 0.3), 0 1px 3px 1px rgba(60, 64, 67, 0.15);\n",
              "    fill: var(--button-hover-fill-color);\n",
              "  }\n",
              "\n",
              "  .colab-df-quickchart-complete:disabled,\n",
              "  .colab-df-quickchart-complete:disabled:hover {\n",
              "    background-color: var(--disabled-bg-color);\n",
              "    fill: var(--disabled-fill-color);\n",
              "    box-shadow: none;\n",
              "  }\n",
              "\n",
              "  .colab-df-spinner {\n",
              "    border: 2px solid var(--fill-color);\n",
              "    border-color: transparent;\n",
              "    border-bottom-color: var(--fill-color);\n",
              "    animation:\n",
              "      spin 1s steps(1) infinite;\n",
              "  }\n",
              "\n",
              "  @keyframes spin {\n",
              "    0% {\n",
              "      border-color: transparent;\n",
              "      border-bottom-color: var(--fill-color);\n",
              "      border-left-color: var(--fill-color);\n",
              "    }\n",
              "    20% {\n",
              "      border-color: transparent;\n",
              "      border-left-color: var(--fill-color);\n",
              "      border-top-color: var(--fill-color);\n",
              "    }\n",
              "    30% {\n",
              "      border-color: transparent;\n",
              "      border-left-color: var(--fill-color);\n",
              "      border-top-color: var(--fill-color);\n",
              "      border-right-color: var(--fill-color);\n",
              "    }\n",
              "    40% {\n",
              "      border-color: transparent;\n",
              "      border-right-color: var(--fill-color);\n",
              "      border-top-color: var(--fill-color);\n",
              "    }\n",
              "    60% {\n",
              "      border-color: transparent;\n",
              "      border-right-color: var(--fill-color);\n",
              "    }\n",
              "    80% {\n",
              "      border-color: transparent;\n",
              "      border-right-color: var(--fill-color);\n",
              "      border-bottom-color: var(--fill-color);\n",
              "    }\n",
              "    90% {\n",
              "      border-color: transparent;\n",
              "      border-bottom-color: var(--fill-color);\n",
              "    }\n",
              "  }\n",
              "</style>\n",
              "\n",
              "  <script>\n",
              "    async function quickchart(key) {\n",
              "      const quickchartButtonEl =\n",
              "        document.querySelector('#' + key + ' button');\n",
              "      quickchartButtonEl.disabled = true;  // To prevent multiple clicks.\n",
              "      quickchartButtonEl.classList.add('colab-df-spinner');\n",
              "      try {\n",
              "        const charts = await google.colab.kernel.invokeFunction(\n",
              "            'suggestCharts', [key], {});\n",
              "      } catch (error) {\n",
              "        console.error('Error during call to suggestCharts:', error);\n",
              "      }\n",
              "      quickchartButtonEl.classList.remove('colab-df-spinner');\n",
              "      quickchartButtonEl.classList.add('colab-df-quickchart-complete');\n",
              "    }\n",
              "    (() => {\n",
              "      let quickchartButtonEl =\n",
              "        document.querySelector('#df-be094e4b-4010-4729-8931-6091a6064757 button');\n",
              "      quickchartButtonEl.style.display =\n",
              "        google.colab.kernel.accessAllowed ? 'block' : 'none';\n",
              "    })();\n",
              "  </script>\n",
              "</div>\n",
              "\n",
              "  <div id=\"id_ed2803a4-9fe5-4ccb-9ed4-b9cea698de2c\">\n",
              "    <style>\n",
              "      .colab-df-generate {\n",
              "        background-color: #E8F0FE;\n",
              "        border: none;\n",
              "        border-radius: 50%;\n",
              "        cursor: pointer;\n",
              "        display: none;\n",
              "        fill: #1967D2;\n",
              "        height: 32px;\n",
              "        padding: 0 0 0 0;\n",
              "        width: 32px;\n",
              "      }\n",
              "\n",
              "      .colab-df-generate:hover {\n",
              "        background-color: #E2EBFA;\n",
              "        box-shadow: 0px 1px 2px rgba(60, 64, 67, 0.3), 0px 1px 3px 1px rgba(60, 64, 67, 0.15);\n",
              "        fill: #174EA6;\n",
              "      }\n",
              "\n",
              "      [theme=dark] .colab-df-generate {\n",
              "        background-color: #3B4455;\n",
              "        fill: #D2E3FC;\n",
              "      }\n",
              "\n",
              "      [theme=dark] .colab-df-generate:hover {\n",
              "        background-color: #434B5C;\n",
              "        box-shadow: 0px 1px 3px 1px rgba(0, 0, 0, 0.15);\n",
              "        filter: drop-shadow(0px 1px 2px rgba(0, 0, 0, 0.3));\n",
              "        fill: #FFFFFF;\n",
              "      }\n",
              "    </style>\n",
              "    <button class=\"colab-df-generate\" onclick=\"generateWithVariable('sub')\"\n",
              "            title=\"Generate code using this dataframe.\"\n",
              "            style=\"display:none;\">\n",
              "\n",
              "  <svg xmlns=\"http://www.w3.org/2000/svg\" height=\"24px\"viewBox=\"0 0 24 24\"\n",
              "       width=\"24px\">\n",
              "    <path d=\"M7,19H8.4L18.45,9,17,7.55,7,17.6ZM5,21V16.75L18.45,3.32a2,2,0,0,1,2.83,0l1.4,1.43a1.91,1.91,0,0,1,.58,1.4,1.91,1.91,0,0,1-.58,1.4L9.25,21ZM18.45,9,17,7.55Zm-12,3A5.31,5.31,0,0,0,4.9,8.1,5.31,5.31,0,0,0,1,6.5,5.31,5.31,0,0,0,4.9,4.9,5.31,5.31,0,0,0,6.5,1,5.31,5.31,0,0,0,8.1,4.9,5.31,5.31,0,0,0,12,6.5,5.46,5.46,0,0,0,6.5,12Z\"/>\n",
              "  </svg>\n",
              "    </button>\n",
              "    <script>\n",
              "      (() => {\n",
              "      const buttonEl =\n",
              "        document.querySelector('#id_ed2803a4-9fe5-4ccb-9ed4-b9cea698de2c button.colab-df-generate');\n",
              "      buttonEl.style.display =\n",
              "        google.colab.kernel.accessAllowed ? 'block' : 'none';\n",
              "\n",
              "      buttonEl.onclick = () => {\n",
              "        google.colab.notebook.generateWithVariable('sub');\n",
              "      }\n",
              "      })();\n",
              "    </script>\n",
              "  </div>\n",
              "\n",
              "    </div>\n",
              "  </div>\n"
            ],
            "application/vnd.google.colaboratory.intrinsic+json": {
              "type": "dataframe",
              "variable_name": "sub",
              "summary": "{\n  \"name\": \"sub\",\n  \"rows\": 17361,\n  \"fields\": [\n    {\n      \"column\": \"Set ID\",\n      \"properties\": {\n        \"dtype\": \"string\",\n        \"num_unique_values\": 17361,\n        \"samples\": [\n          \"477745aeeadd473584d7c147e8490e90\",\n          \"19b636ef74c940ba975a3abf8d2d901d\",\n          \"b077742b2e4146fbb95ea5e09cd9c362\"\n        ],\n        \"semantic_type\": \"\",\n        \"description\": \"\"\n      }\n    },\n    {\n      \"column\": \"target\",\n      \"properties\": {\n        \"dtype\": \"number\",\n        \"std\": null,\n        \"min\": null,\n        \"max\": null,\n        \"num_unique_values\": 0,\n        \"samples\": [],\n        \"semantic_type\": \"\",\n        \"description\": \"\"\n      }\n    }\n  ]\n}"
            }
          },
          "metadata": {},
          "execution_count": 78
        }
      ]
    },
    {
      "cell_type": "code",
      "source": [
        "df['Chamber Temp. Judge Value_AutoClave'] = df['Chamber Temp. Judge Value_AutoClave'].map({'OK': 0, 'NG': 1})\n",
        "test_df['Chamber Temp. Judge Value_AutoClave'] = test_df['Chamber Temp. Judge Value_AutoClave'].map({'OK': 0, 'NG': 1})"
      ],
      "metadata": {
        "id": "q7R9Nd-MV2Gh"
      },
      "execution_count": 79,
      "outputs": []
    },
    {
      "cell_type": "code",
      "source": [
        "df['Chamber Temp. Judge Value_AutoClave'] = df['Chamber Temp. Judge Value_AutoClave'].map({'OK': 0, 'NG': 1})\n",
        "test_df['Chamber Temp. Judge Value_AutoClave'] = test_df['Chamber Temp. Judge Value_AutoClave'].map({'OK': 0, 'NG': 1})"
      ],
      "metadata": {
        "id": "p9By_i96V2Ix"
      },
      "execution_count": 80,
      "outputs": []
    },
    {
      "cell_type": "code",
      "source": [
        "#중복 컬럼 삭제\n",
        "dr2=['Model.Suffix_Dam','Model.Suffix_AutoClave','Model.Suffix_Fill1','Model.Suffix_Fill2','Workorder_Dam','Workorder_AutoClave','Workorder_Fill1','Workorder_Fill2',\n",
        "     'PalletID Collect Result_Fill1','PalletID Collect Result_Fill2','Production Qty Collect Result_Fill1','Production Qty Collect Result_Fill2','Receip No Collect Result_Fill1',\n",
        "     'Receip No Collect Result_Fill2','Chamber Temp. Judge Value_AutoClave'\n",
        " ]\n",
        "df.drop(columns=dr2,inplace=True)\n",
        "test_df.drop(columns=dr2,inplace=True)"
      ],
      "metadata": {
        "id": "XQToTR5sV2Ko"
      },
      "execution_count": 81,
      "outputs": []
    },
    {
      "cell_type": "code",
      "source": [
        "#dr4 - circle, line값 같음. 아예\n",
        "dr4=[\n",
        "       'Stage1 Circle2 Distance Speed Collect Result_Dam',\n",
        "       'Stage1 Circle3 Distance Speed Collect Result_Dam',\n",
        "       'Stage1 Circle4 Distance Speed Collect Result_Dam',\n",
        "\n",
        "       'Stage1 Line2 Distance Speed Collect Result_Dam',\n",
        "       'Stage1 Line3 Distance Speed Collect Result_Dam',\n",
        "       'Stage1 Line4 Distance Speed Collect Result_Dam',\n",
        "\n",
        "       'Stage2 Circle2 Distance Speed Collect Result_Dam',\n",
        "       'Stage2 Circle3 Distance Speed Collect Result_Dam',\n",
        "       'Stage2 Circle4 Distance Speed Collect Result_Dam',\n",
        "\n",
        "       'Stage2 Line2 Distance Speed Collect Result_Dam',\n",
        "       'Stage2 Line3 Distance Speed Collect Result_Dam',\n",
        "       'Stage2 Line4 Distance Speed Collect Result_Dam',\n",
        "\n",
        "       'Stage3 Circle2 Distance Speed Collect Result_Dam',\n",
        "       'Stage3 Circle3 Distance Speed Collect Result_Dam',\n",
        "       'Stage3 Circle4 Distance Speed Collect Result_Dam',\n",
        "\n",
        "       'Stage3 Line2 Distance Speed Collect Result_Dam',\n",
        "       'Stage3 Line4 Distance Speed Collect Result_Dam',]\n",
        "\n",
        "df.drop(columns=dr4,inplace=True)\n",
        "test_df.drop(columns=dr4,inplace=True)"
      ],
      "metadata": {
        "id": "dcjEk-35V2M3"
      },
      "execution_count": 82,
      "outputs": []
    },
    {
      "cell_type": "code",
      "source": [
        "#train\n",
        "\n",
        "#합계/평균/최대/최소/표준편차/분산/비율\n",
        "#Dam\n",
        "df['MEAN DISCHARGED TIME OF RESIN_Dam']=df[['DISCHARGED TIME OF RESIN(Stage1) Collect Result_Dam',\n",
        "       'DISCHARGED TIME OF RESIN(Stage2) Collect Result_Dam',\n",
        "       'DISCHARGED TIME OF RESIN(Stage3) Collect Result_Dam']].mean(axis=1)\n",
        "df['STD DISCHARGED TIME OF RESIN_Dam']=df[['DISCHARGED TIME OF RESIN(Stage1) Collect Result_Dam',\n",
        "       'DISCHARGED TIME OF RESIN(Stage2) Collect Result_Dam',\n",
        "       'DISCHARGED TIME OF RESIN(Stage3) Collect Result_Dam']].std(axis=1)\n",
        "df['SUM DISCHARGED TIME OF RESIN_Dam']=df[['DISCHARGED TIME OF RESIN(Stage1) Collect Result_Dam',\n",
        "       'DISCHARGED TIME OF RESIN(Stage2) Collect Result_Dam',\n",
        "       'DISCHARGED TIME OF RESIN(Stage3) Collect Result_Dam']].sum(axis=1)\n",
        "\n",
        "df['MEAN Dispense Volume_Dam']=df[['Dispense Volume(Stage1) Collect Result_Dam',\n",
        "       'Dispense Volume(Stage2) Collect Result_Dam',\n",
        "       'Dispense Volume(Stage3) Collect Result_Dam']].mean(axis=1)\n",
        "df['STD Dispense Volume_Dam']=df[['Dispense Volume(Stage1) Collect Result_Dam',\n",
        "       'Dispense Volume(Stage2) Collect Result_Dam',\n",
        "       'Dispense Volume(Stage3) Collect Result_Dam']].std(axis=1)\n",
        "df['SUM Dispense Volume_Dam']=df[['Dispense Volume(Stage1) Collect Result_Dam',\n",
        "       'Dispense Volume(Stage2) Collect Result_Dam',\n",
        "       'Dispense Volume(Stage3) Collect Result_Dam']].sum(axis=1)\n",
        "\n",
        "#비율 - 같은 용량이 나오는 데에 걸리는 시간\n",
        "df['DIV Dispense Volume(Stage1)_Dam']=df['DISCHARGED TIME OF RESIN(Stage1) Collect Result_Dam']/df['Dispense Volume(Stage1) Collect Result_Dam']\n",
        "df['DIV Dispense Volume(Stage2)_Dam']=df['DISCHARGED TIME OF RESIN(Stage2) Collect Result_Dam']/df['Dispense Volume(Stage2) Collect Result_Dam']\n",
        "df['DIV Dispense Volume(Stage3)_Dam']=df['DISCHARGED TIME OF RESIN(Stage3) Collect Result_Dam']/df['Dispense Volume(Stage3) Collect Result_Dam']\n",
        "\n",
        "#Fill1\n",
        "#합계/평균/최대/최소/표준편차/분산/비율\n",
        "\n",
        "df['MEAN DISCHARGED TIME OF RESIN_Fill1']=df[['DISCHARGED TIME OF RESIN(Stage1) Collect Result_Fill1',\n",
        "       'DISCHARGED TIME OF RESIN(Stage2) Collect Result_Fill1',\n",
        "       'DISCHARGED TIME OF RESIN(Stage3) Collect Result_Fill1']].mean(axis=1)\n",
        "df['STD DISCHARGED TIME OF RESIN_Fill1']=df[['DISCHARGED TIME OF RESIN(Stage1) Collect Result_Fill1',\n",
        "       'DISCHARGED TIME OF RESIN(Stage2) Collect Result_Fill1',\n",
        "       'DISCHARGED TIME OF RESIN(Stage3) Collect Result_Fill1']].std(axis=1)\n",
        "df['SUM DISCHARGED TIME OF RESIN_Fill1']=df[['DISCHARGED TIME OF RESIN(Stage1) Collect Result_Fill1',\n",
        "       'DISCHARGED TIME OF RESIN(Stage2) Collect Result_Fill1',\n",
        "       'DISCHARGED TIME OF RESIN(Stage3) Collect Result_Fill1']].sum(axis=1)\n",
        "\n",
        "df['MEAN Dispense Volume_Fill1']=df[['Dispense Volume(Stage1) Collect Result_Fill1',\n",
        "       'Dispense Volume(Stage2) Collect Result_Fill1',\n",
        "       'Dispense Volume(Stage3) Collect Result_Fill1']].mean(axis=1)\n",
        "df['STD Dispense Volume_Fill1']=df[['Dispense Volume(Stage1) Collect Result_Fill1',\n",
        "       'Dispense Volume(Stage2) Collect Result_Fill1',\n",
        "       'Dispense Volume(Stage3) Collect Result_Fill1']].std(axis=1)\n",
        "df['SUM Dispense Volume_Fill1']=df[['Dispense Volume(Stage1) Collect Result_Fill1',\n",
        "       'Dispense Volume(Stage2) Collect Result_Fill1',\n",
        "       'Dispense Volume(Stage3) Collect Result_Fill1']].sum(axis=1)\n",
        "\n",
        "#비율 - 같은 용량이 나오는 데에 걸리는 시간\n",
        "df['DIV Dispense Volume(Stage1)_Fill1']=df['DISCHARGED TIME OF RESIN(Stage1) Collect Result_Fill1']/df['Dispense Volume(Stage1) Collect Result_Fill1']\n",
        "df['DIV Dispense Volume(Stage2)_Fill1']=df['DISCHARGED TIME OF RESIN(Stage2) Collect Result_Fill1']/df['Dispense Volume(Stage2) Collect Result_Fill1']\n",
        "df['DIV Dispense Volume(Stage3)_Fill1']=df['DISCHARGED TIME OF RESIN(Stage3) Collect Result_Fill1']/df['Dispense Volume(Stage3) Collect Result_Fill1']\n",
        "\n",
        "#Thickness(변화가 있는지도 비율로 보면 좋을듯)\n",
        "\n",
        "df['SUM THICKNESS_Dam']=df[['THICKNESS 1 Collect Result_Dam', 'THICKNESS 2 Collect Result_Dam','THICKNESS 3 Collect Result_Dam']].sum(axis=1)\n",
        "df['MEAN THICKNESS_Dam']=df[['THICKNESS 1 Collect Result_Dam', 'THICKNESS 2 Collect Result_Dam','THICKNESS 3 Collect Result_Dam']].mean(axis=1)\n",
        "df['STD THICKNESS_Dam']=df[['THICKNESS 1 Collect Result_Dam', 'THICKNESS 2 Collect Result_Dam','THICKNESS 3 Collect Result_Dam']].std(axis=1)\n",
        "\n",
        "df['DIV1 THICKNESS_Dam']=df['THICKNESS 2 Collect Result_Dam']/df['THICKNESS 1 Collect Result_Dam']\n",
        "df['DIV2 THICKNESS_Dam']=df['THICKNESS 3 Collect Result_Dam']/df['THICKNESS 2 Collect Result_Dam']\n",
        "\n",
        "#1st/2nd/3rd - 'THICKNESS 1 Collect Result_Dam', 'THICKNESS 2 Collect Result_Dam''THICKNESS 3 Collect Result_Dam'\n",
        "df['SUM Pressure_AutoClave']=df[['1st Pressure Collect Result_AutoClave', '2nd Pressure Collect Result_AutoClave', '3rd Pressure Collect Result_AutoClave']].sum(axis=1)\n",
        "df['MEAN Pressure_AutoClave']=df[['1st Pressure Collect Result_AutoClave', '2nd Pressure Collect Result_AutoClave', '3rd Pressure Collect Result_AutoClave']].mean(axis=1)\n",
        "df['STD Pressure_AutoClave']=df[['1st Pressure Collect Result_AutoClave', '2nd Pressure Collect Result_AutoClave', '3rd Pressure Collect Result_AutoClave']].std(axis=1)\n",
        "\n",
        "df['DIV1 Pressure_AutoClave']=df['2nd Pressure Collect Result_AutoClave']/df['1st Pressure Collect Result_AutoClave']\n",
        "df['DIV2 Pressure_AutoClave']=df['3rd Pressure Collect Result_AutoClave']/df['2nd Pressure Collect Result_AutoClave']"
      ],
      "metadata": {
        "id": "sdZ26-CAV2O9"
      },
      "execution_count": 83,
      "outputs": []
    },
    {
      "cell_type": "code",
      "source": [
        "#train\n",
        "\n",
        "#합계/평균/최대/최소/표준편차/분산/비율\n",
        "#Dam\n",
        "test_df['MEAN DISCHARGED TIME OF RESIN_Dam']=test_df[['DISCHARGED TIME OF RESIN(Stage1) Collect Result_Dam',\n",
        "       'DISCHARGED TIME OF RESIN(Stage2) Collect Result_Dam',\n",
        "       'DISCHARGED TIME OF RESIN(Stage3) Collect Result_Dam']].mean(axis=1)\n",
        "test_df['STD DISCHARGED TIME OF RESIN_Dam']=test_df[['DISCHARGED TIME OF RESIN(Stage1) Collect Result_Dam',\n",
        "       'DISCHARGED TIME OF RESIN(Stage2) Collect Result_Dam',\n",
        "       'DISCHARGED TIME OF RESIN(Stage3) Collect Result_Dam']].std(axis=1)\n",
        "test_df['SUM DISCHARGED TIME OF RESIN_Dam']=test_df[['DISCHARGED TIME OF RESIN(Stage1) Collect Result_Dam',\n",
        "       'DISCHARGED TIME OF RESIN(Stage2) Collect Result_Dam',\n",
        "       'DISCHARGED TIME OF RESIN(Stage3) Collect Result_Dam']].sum(axis=1)\n",
        "\n",
        "test_df['MEAN Dispense Volume_Dam']=test_df[['Dispense Volume(Stage1) Collect Result_Dam',\n",
        "       'Dispense Volume(Stage2) Collect Result_Dam',\n",
        "       'Dispense Volume(Stage3) Collect Result_Dam']].mean(axis=1)\n",
        "test_df['STD Dispense Volume_Dam']=test_df[['Dispense Volume(Stage1) Collect Result_Dam',\n",
        "       'Dispense Volume(Stage2) Collect Result_Dam',\n",
        "       'Dispense Volume(Stage3) Collect Result_Dam']].std(axis=1)\n",
        "test_df['SUM Dispense Volume_Dam']=test_df[['Dispense Volume(Stage1) Collect Result_Dam',\n",
        "       'Dispense Volume(Stage2) Collect Result_Dam',\n",
        "       'Dispense Volume(Stage3) Collect Result_Dam']].sum(axis=1)\n",
        "\n",
        "#비율 - 같은 용량이 나오는 데에 걸리는 시간\n",
        "test_df['DIV Dispense Volume(Stage1)_Dam']=test_df['DISCHARGED TIME OF RESIN(Stage1) Collect Result_Dam']/test_df['Dispense Volume(Stage1) Collect Result_Dam']\n",
        "test_df['DIV Dispense Volume(Stage2)_Dam']=test_df['DISCHARGED TIME OF RESIN(Stage2) Collect Result_Dam']/test_df['Dispense Volume(Stage2) Collect Result_Dam']\n",
        "test_df['DIV Dispense Volume(Stage3)_Dam']=test_df['DISCHARGED TIME OF RESIN(Stage3) Collect Result_Dam']/test_df['Dispense Volume(Stage3) Collect Result_Dam']\n",
        "\n",
        "#Fill1\n",
        "#합계/평균/최대/최소/표준편차/분산/비율\n",
        "\n",
        "test_df['MEAN DISCHARGED TIME OF RESIN_Fill1']=test_df[['DISCHARGED TIME OF RESIN(Stage1) Collect Result_Fill1',\n",
        "       'DISCHARGED TIME OF RESIN(Stage2) Collect Result_Fill1',\n",
        "       'DISCHARGED TIME OF RESIN(Stage3) Collect Result_Fill1']].mean(axis=1)\n",
        "test_df['STD DISCHARGED TIME OF RESIN_Fill1']=test_df[['DISCHARGED TIME OF RESIN(Stage1) Collect Result_Fill1',\n",
        "       'DISCHARGED TIME OF RESIN(Stage2) Collect Result_Fill1',\n",
        "       'DISCHARGED TIME OF RESIN(Stage3) Collect Result_Fill1']].std(axis=1)\n",
        "test_df['SUM DISCHARGED TIME OF RESIN_Fill1']=test_df[['DISCHARGED TIME OF RESIN(Stage1) Collect Result_Fill1',\n",
        "       'DISCHARGED TIME OF RESIN(Stage2) Collect Result_Fill1',\n",
        "       'DISCHARGED TIME OF RESIN(Stage3) Collect Result_Fill1']].sum(axis=1)\n",
        "\n",
        "test_df['MEAN Dispense Volume_Fill1']=test_df[['Dispense Volume(Stage1) Collect Result_Fill1',\n",
        "       'Dispense Volume(Stage2) Collect Result_Fill1',\n",
        "       'Dispense Volume(Stage3) Collect Result_Fill1']].mean(axis=1)\n",
        "test_df['STD Dispense Volume_Fill1']=test_df[['Dispense Volume(Stage1) Collect Result_Fill1',\n",
        "       'Dispense Volume(Stage2) Collect Result_Fill1',\n",
        "       'Dispense Volume(Stage3) Collect Result_Fill1']].std(axis=1)\n",
        "test_df['SUM Dispense Volume_Fill1']=test_df[['Dispense Volume(Stage1) Collect Result_Fill1',\n",
        "       'Dispense Volume(Stage2) Collect Result_Fill1',\n",
        "       'Dispense Volume(Stage3) Collect Result_Fill1']].sum(axis=1)\n",
        "\n",
        "#비율 - 같은 용량이 나오는 데에 걸리는 시간\n",
        "test_df['DIV Dispense Volume(Stage1)_Fill1']=test_df['DISCHARGED TIME OF RESIN(Stage1) Collect Result_Fill1']/test_df['Dispense Volume(Stage1) Collect Result_Fill1']\n",
        "test_df['DIV Dispense Volume(Stage2)_Fill1']=test_df['DISCHARGED TIME OF RESIN(Stage2) Collect Result_Fill1']/test_df['Dispense Volume(Stage2) Collect Result_Fill1']\n",
        "test_df['DIV Dispense Volume(Stage3)_Fill1']=test_df['DISCHARGED TIME OF RESIN(Stage3) Collect Result_Fill1']/test_df['Dispense Volume(Stage3) Collect Result_Fill1']\n",
        "\n",
        "#Thickness(변화가 있는지도 비율로 보면 좋을듯)\n",
        "\n",
        "test_df['SUM THICKNESS_Dam']=test_df[['THICKNESS 1 Collect Result_Dam', 'THICKNESS 2 Collect Result_Dam','THICKNESS 3 Collect Result_Dam']].sum(axis=1)\n",
        "test_df['MEAN THICKNESS_Dam']=test_df[['THICKNESS 1 Collect Result_Dam', 'THICKNESS 2 Collect Result_Dam','THICKNESS 3 Collect Result_Dam']].mean(axis=1)\n",
        "test_df['STD THICKNESS_Dam']=test_df[['THICKNESS 1 Collect Result_Dam', 'THICKNESS 2 Collect Result_Dam','THICKNESS 3 Collect Result_Dam']].std(axis=1)\n",
        "\n",
        "test_df['DIV1 THICKNESS_Dam']=test_df['THICKNESS 2 Collect Result_Dam']/test_df['THICKNESS 1 Collect Result_Dam']\n",
        "test_df['DIV2 THICKNESS_Dam']=test_df['THICKNESS 3 Collect Result_Dam']/test_df['THICKNESS 2 Collect Result_Dam']\n",
        "\n",
        "#1st/2nd/3rd - 'THICKNESS 1 Collect Result_Dam', 'THICKNESS 2 Collect Result_Dam''THICKNESS 3 Collect Result_Dam'\n",
        "test_df['SUM Pressure_AutoClave']=test_df[['1st Pressure Collect Result_AutoClave', '2nd Pressure Collect Result_AutoClave', '3rd Pressure Collect Result_AutoClave']].sum(axis=1)\n",
        "test_df['MEAN Pressure_AutoClave']=test_df[['1st Pressure Collect Result_AutoClave', '2nd Pressure Collect Result_AutoClave', '3rd Pressure Collect Result_AutoClave']].mean(axis=1)\n",
        "test_df['STD Pressure_AutoClave']=test_df[['1st Pressure Collect Result_AutoClave', '2nd Pressure Collect Result_AutoClave', '3rd Pressure Collect Result_AutoClave']].std(axis=1)\n",
        "\n",
        "test_df['DIV1 Pressure_AutoClave']=test_df['2nd Pressure Collect Result_AutoClave']/test_df['1st Pressure Collect Result_AutoClave']\n",
        "test_df['DIV2 Pressure_AutoClave']=test_df['3rd Pressure Collect Result_AutoClave']/test_df['2nd Pressure Collect Result_AutoClave']"
      ],
      "metadata": {
        "id": "D4GPtjksV2RL"
      },
      "execution_count": 84,
      "outputs": []
    },
    {
      "cell_type": "code",
      "source": [
        "#0으로 나누어 생기 nan값 0으로 처리\n",
        "df['DIV1 THICKNESS_Dam']=df['DIV1 THICKNESS_Dam'].fillna(0)\n",
        "df['DIV2 THICKNESS_Dam']=df['DIV2 THICKNESS_Dam'].fillna(0)\n",
        "\n",
        "test_df['DIV1 THICKNESS_Dam']=test_df['DIV1 THICKNESS_Dam'].fillna(0)\n",
        "test_df['DIV2 THICKNESS_Dam']=test_df['DIV2 THICKNESS_Dam'].fillna(0)\n",
        "print(df['DIV1 THICKNESS_Dam'].isna().sum()) #확인"
      ],
      "metadata": {
        "colab": {
          "base_uri": "https://localhost:8080/"
        },
        "id": "BbJ1uHS3V2TP",
        "outputId": "cd3c58a4-1ecc-4ea5-f443-7e818fff89f2"
      },
      "execution_count": 85,
      "outputs": [
        {
          "output_type": "stream",
          "name": "stdout",
          "text": [
            "0\n"
          ]
        }
      ]
    },
    {
      "cell_type": "code",
      "source": [
        "#파생변수 시각화 후 삭제 + 애매한 변수 drop\n",
        "\n",
        "dr_new=['STD Dispense Volume_Dam','STD DISCHARGED TIME OF RESIN_Fill1','STD THICKNESS_Dam',\n",
        "        'MEAN DISCHARGED TIME OF RESIN_Dam','STD DISCHARGED TIME OF RESIN_Dam','SUM DISCHARGED TIME OF RESIN_Dam'\n",
        "        ,'DIV Dispense Volume(Stage1)_Dam','MEAN DISCHARGED TIME OF RESIN_Fill1','SUM Dispense Volume_Fill1','DIV Dispense Volume(Stage1)_Fill1','DIV Dispense Volume(Stage2)_Fill1','DIV Dispense Volume(Stage3)_Fill1'\n",
        "        ,'SUM THICKNESS_Dam','MEAN THICKNESS_Dam','STD Pressure_AutoClave'\n",
        "        ]\n",
        "df.drop(columns=dr_new,inplace=True)\n",
        "test_df.drop(columns=dr_new,inplace=True)"
      ],
      "metadata": {
        "id": "Qr0SFKg2V2VG"
      },
      "execution_count": 86,
      "outputs": []
    },
    {
      "cell_type": "code",
      "source": [
        "df['target']=np.where(df['target']=='AbNormal',1,0)"
      ],
      "metadata": {
        "id": "fKBX50FJV2W7"
      },
      "execution_count": 87,
      "outputs": []
    },
    {
      "cell_type": "code",
      "source": [
        "X=df.drop(columns=['target'])\n",
        "y=df[['target']]"
      ],
      "metadata": {
        "id": "ygqZ3s8TV2aR"
      },
      "execution_count": 88,
      "outputs": []
    },
    {
      "cell_type": "code",
      "source": [
        "test_x=test_df.drop(columns=['Set ID'])"
      ],
      "metadata": {
        "id": "OQhJWVCvWvX_"
      },
      "execution_count": 89,
      "outputs": []
    },
    {
      "cell_type": "code",
      "source": [
        "from sklearn.preprocessing import StandardScaler\n",
        "SS=StandardScaler()\n",
        "train_scaled = SS.fit_transform(X)\n",
        "test_scaled = SS.transform(test_x)\n",
        "test_scaled"
      ],
      "metadata": {
        "colab": {
          "base_uri": "https://localhost:8080/"
        },
        "id": "5eZCp1n6WvUu",
        "outputId": "9e2beb51-f37c-4bc1-abd3-27bfcb89ef10"
      },
      "execution_count": 90,
      "outputs": [
        {
          "output_type": "execute_result",
          "data": {
            "text/plain": [
              "array([[-0.36247354, -0.80745173, -0.98601476, ..., -0.78864809,\n",
              "        -0.87368453,  0.89615293],\n",
              "       [-0.36247354,  1.23846412, -0.06904356, ...,  0.88862009,\n",
              "         1.13891826, -1.12004901],\n",
              "       [-0.36247354, -0.80745173, -1.01221394, ...,  1.14739861,\n",
              "         0.98313619, -1.16002561],\n",
              "       ...,\n",
              "       [-0.36247354,  1.23846412, -0.06904356, ..., -0.81740126,\n",
              "        -0.87368453,  0.86412768],\n",
              "       [-0.36247354, -0.80745173, -0.98601476, ..., -0.89407638,\n",
              "        -0.86312684,  0.94475265],\n",
              "       [-0.36247354, -0.80745173,  0.92652517, ..., -0.93241393,\n",
              "        -0.86302127,  1.0202818 ]])"
            ]
          },
          "metadata": {},
          "execution_count": 90
        }
      ]
    },
    {
      "cell_type": "code",
      "source": [
        "from sklearn.model_selection import train_test_split\n",
        "\n",
        "x_train, x_val, y_train, y_val = train_test_split(train_scaled, y, test_size=0.2, random_state=42)\n",
        "print(\"Number transactions x_train dataset: \", x_train.shape)\n",
        "print(\"Number transactions y_train dataset: \", y_train.shape)\n",
        "print(\"Number transactions x_val dataset: \", x_val.shape)\n",
        "print(\"Number transactions y_val dataset: \", y_val.shape)"
      ],
      "metadata": {
        "colab": {
          "base_uri": "https://localhost:8080/"
        },
        "id": "JEdKD1HsWvSt",
        "outputId": "239e4cfd-7fcd-4d3c-9792-59ac53e83ea3"
      },
      "execution_count": 91,
      "outputs": [
        {
          "output_type": "stream",
          "name": "stdout",
          "text": [
            "Number transactions x_train dataset:  (19974, 101)\n",
            "Number transactions y_train dataset:  (19974, 1)\n",
            "Number transactions x_val dataset:  (4994, 101)\n",
            "Number transactions y_val dataset:  (4994, 1)\n"
          ]
        }
      ]
    },
    {
      "cell_type": "code",
      "source": [
        "import tensorflow as tf\n",
        "from tensorflow import keras\n",
        "\n",
        "import os\n",
        "import tempfile\n",
        "\n",
        "import matplotlib as mpl\n",
        "import matplotlib.pyplot as plt\n",
        "import numpy as np\n",
        "import pandas as pd\n",
        "import seaborn as sns\n",
        "\n",
        "import sklearn\n",
        "from sklearn.metrics import confusion_matrix\n",
        "from sklearn.model_selection import train_test_split\n",
        "from sklearn.preprocessing import StandardScaler\n",
        "import keras\n",
        "from keras.models import Sequential\n",
        "from keras.layers import Dense\n",
        "from keras.layers import Dropout"
      ],
      "metadata": {
        "id": "iPotgoN3WvQa"
      },
      "execution_count": 92,
      "outputs": []
    },
    {
      "cell_type": "code",
      "source": [
        "import matplotlib as mpl\n",
        "import matplotlib.pyplot as plt\n",
        "mpl.rcParams['figure.figsize'] = (12, 10)\n",
        "colors = plt.rcParams['axes.prop_cycle'].by_key()['color']\n",
        "\n",
        "\n",
        "METRICS = [\n",
        "      keras.metrics.TruePositives(name='tp'),\n",
        "      keras.metrics.FalsePositives(name='fp'),\n",
        "      keras.metrics.TrueNegatives(name='tn'),\n",
        "      keras.metrics.FalseNegatives(name='fn'),\n",
        "      keras.metrics.BinaryAccuracy(name='accuracy'),\n",
        "      keras.metrics.Precision(name='precision'),\n",
        "      keras.metrics.Recall(name='recall'),\n",
        "      keras.metrics.AUC(name='auc'),\n",
        "      keras.metrics.AUC(name='prc', curve='PR'), # precision-recall curve\n",
        "]\n",
        "\n",
        "def make_model(metrics=METRICS, output_bias=None):\n",
        "  if output_bias is not None:\n",
        "    output_bias = tf.keras.initializers.Constant(output_bias)\n",
        "  model = keras.Sequential([\n",
        "      keras.layers.Dense(\n",
        "          128, activation='relu',\n",
        "          input_shape=(x_train.shape[-1],)),\n",
        "      keras.layers.Dropout(0.5),\n",
        "      keras.layers.Dense(128, activation='relu'),\n",
        "      keras.layers.Dropout(0.5),\n",
        "      keras.layers.Dense(128, activation='relu'),\n",
        "      keras.layers.Dropout(0.5),\n",
        "      keras.layers.Dense(64, activation='relu'),\n",
        "      keras.layers.Dropout(0.5),\n",
        "\n",
        "\n",
        "      keras.layers.Dense(1, activation='sigmoid',\n",
        "                         bias_initializer=output_bias),\n",
        "  ])\n",
        "\n",
        "  model.compile(\n",
        "      optimizer=keras.optimizers.Adam(learning_rate=1e-4),\n",
        "      loss=keras.losses.BinaryCrossentropy(),\n",
        "      metrics=metrics)\n",
        "\n",
        "  return model"
      ],
      "metadata": {
        "id": "7-29FbviWvOS"
      },
      "execution_count": 159,
      "outputs": []
    },
    {
      "cell_type": "code",
      "source": [
        "EPOCHS = 100\n",
        "BATCH_SIZE = 4096\n",
        "\n",
        "early_stopping = tf.keras.callbacks.EarlyStopping(\n",
        "    monitor='val_prc',\n",
        "    verbose=1,\n",
        "    patience=10,\n",
        "    mode='max',\n",
        "    restore_best_weights=True)"
      ],
      "metadata": {
        "id": "Ah3GsaHFWvL-"
      },
      "execution_count": 160,
      "outputs": []
    },
    {
      "cell_type": "code",
      "source": [
        "model = make_model()\n",
        "model.summary()"
      ],
      "metadata": {
        "colab": {
          "base_uri": "https://localhost:8080/",
          "height": 473
        },
        "id": "xVV6WoInWvJm",
        "outputId": "dd359b67-ab28-4ed1-c882-f3a27c5df0b5"
      },
      "execution_count": 161,
      "outputs": [
        {
          "output_type": "stream",
          "name": "stderr",
          "text": [
            "/usr/local/lib/python3.10/dist-packages/keras/src/layers/core/dense.py:87: UserWarning: Do not pass an `input_shape`/`input_dim` argument to a layer. When using Sequential models, prefer using an `Input(shape)` object as the first layer in the model instead.\n",
            "  super().__init__(activity_regularizer=activity_regularizer, **kwargs)\n"
          ]
        },
        {
          "output_type": "display_data",
          "data": {
            "text/plain": [
              "\u001b[1mModel: \"sequential_29\"\u001b[0m\n"
            ],
            "text/html": [
              "<pre style=\"white-space:pre;overflow-x:auto;line-height:normal;font-family:Menlo,'DejaVu Sans Mono',consolas,'Courier New',monospace\"><span style=\"font-weight: bold\">Model: \"sequential_29\"</span>\n",
              "</pre>\n"
            ]
          },
          "metadata": {}
        },
        {
          "output_type": "display_data",
          "data": {
            "text/plain": [
              "┏━━━━━━━━━━━━━━━━━━━━━━━━━━━━━━━━━━━━━━┳━━━━━━━━━━━━━━━━━━━━━━━━━━━━━┳━━━━━━━━━━━━━━━━━┓\n",
              "┃\u001b[1m \u001b[0m\u001b[1mLayer (type)                        \u001b[0m\u001b[1m \u001b[0m┃\u001b[1m \u001b[0m\u001b[1mOutput Shape               \u001b[0m\u001b[1m \u001b[0m┃\u001b[1m \u001b[0m\u001b[1m        Param #\u001b[0m\u001b[1m \u001b[0m┃\n",
              "┡━━━━━━━━━━━━━━━━━━━━━━━━━━━━━━━━━━━━━━╇━━━━━━━━━━━━━━━━━━━━━━━━━━━━━╇━━━━━━━━━━━━━━━━━┩\n",
              "│ dense_87 (\u001b[38;5;33mDense\u001b[0m)                     │ (\u001b[38;5;45mNone\u001b[0m, \u001b[38;5;34m128\u001b[0m)                 │          \u001b[38;5;34m13,056\u001b[0m │\n",
              "├──────────────────────────────────────┼─────────────────────────────┼─────────────────┤\n",
              "│ dropout_58 (\u001b[38;5;33mDropout\u001b[0m)                 │ (\u001b[38;5;45mNone\u001b[0m, \u001b[38;5;34m128\u001b[0m)                 │               \u001b[38;5;34m0\u001b[0m │\n",
              "├──────────────────────────────────────┼─────────────────────────────┼─────────────────┤\n",
              "│ dense_88 (\u001b[38;5;33mDense\u001b[0m)                     │ (\u001b[38;5;45mNone\u001b[0m, \u001b[38;5;34m128\u001b[0m)                 │          \u001b[38;5;34m16,512\u001b[0m │\n",
              "├──────────────────────────────────────┼─────────────────────────────┼─────────────────┤\n",
              "│ dropout_59 (\u001b[38;5;33mDropout\u001b[0m)                 │ (\u001b[38;5;45mNone\u001b[0m, \u001b[38;5;34m128\u001b[0m)                 │               \u001b[38;5;34m0\u001b[0m │\n",
              "├──────────────────────────────────────┼─────────────────────────────┼─────────────────┤\n",
              "│ dense_89 (\u001b[38;5;33mDense\u001b[0m)                     │ (\u001b[38;5;45mNone\u001b[0m, \u001b[38;5;34m128\u001b[0m)                 │          \u001b[38;5;34m16,512\u001b[0m │\n",
              "├──────────────────────────────────────┼─────────────────────────────┼─────────────────┤\n",
              "│ dropout_60 (\u001b[38;5;33mDropout\u001b[0m)                 │ (\u001b[38;5;45mNone\u001b[0m, \u001b[38;5;34m128\u001b[0m)                 │               \u001b[38;5;34m0\u001b[0m │\n",
              "├──────────────────────────────────────┼─────────────────────────────┼─────────────────┤\n",
              "│ dense_90 (\u001b[38;5;33mDense\u001b[0m)                     │ (\u001b[38;5;45mNone\u001b[0m, \u001b[38;5;34m64\u001b[0m)                  │           \u001b[38;5;34m8,256\u001b[0m │\n",
              "├──────────────────────────────────────┼─────────────────────────────┼─────────────────┤\n",
              "│ dropout_61 (\u001b[38;5;33mDropout\u001b[0m)                 │ (\u001b[38;5;45mNone\u001b[0m, \u001b[38;5;34m64\u001b[0m)                  │               \u001b[38;5;34m0\u001b[0m │\n",
              "├──────────────────────────────────────┼─────────────────────────────┼─────────────────┤\n",
              "│ dense_91 (\u001b[38;5;33mDense\u001b[0m)                     │ (\u001b[38;5;45mNone\u001b[0m, \u001b[38;5;34m1\u001b[0m)                   │              \u001b[38;5;34m65\u001b[0m │\n",
              "└──────────────────────────────────────┴─────────────────────────────┴─────────────────┘\n"
            ],
            "text/html": [
              "<pre style=\"white-space:pre;overflow-x:auto;line-height:normal;font-family:Menlo,'DejaVu Sans Mono',consolas,'Courier New',monospace\">┏━━━━━━━━━━━━━━━━━━━━━━━━━━━━━━━━━━━━━━┳━━━━━━━━━━━━━━━━━━━━━━━━━━━━━┳━━━━━━━━━━━━━━━━━┓\n",
              "┃<span style=\"font-weight: bold\"> Layer (type)                         </span>┃<span style=\"font-weight: bold\"> Output Shape                </span>┃<span style=\"font-weight: bold\">         Param # </span>┃\n",
              "┡━━━━━━━━━━━━━━━━━━━━━━━━━━━━━━━━━━━━━━╇━━━━━━━━━━━━━━━━━━━━━━━━━━━━━╇━━━━━━━━━━━━━━━━━┩\n",
              "│ dense_87 (<span style=\"color: #0087ff; text-decoration-color: #0087ff\">Dense</span>)                     │ (<span style=\"color: #00d7ff; text-decoration-color: #00d7ff\">None</span>, <span style=\"color: #00af00; text-decoration-color: #00af00\">128</span>)                 │          <span style=\"color: #00af00; text-decoration-color: #00af00\">13,056</span> │\n",
              "├──────────────────────────────────────┼─────────────────────────────┼─────────────────┤\n",
              "│ dropout_58 (<span style=\"color: #0087ff; text-decoration-color: #0087ff\">Dropout</span>)                 │ (<span style=\"color: #00d7ff; text-decoration-color: #00d7ff\">None</span>, <span style=\"color: #00af00; text-decoration-color: #00af00\">128</span>)                 │               <span style=\"color: #00af00; text-decoration-color: #00af00\">0</span> │\n",
              "├──────────────────────────────────────┼─────────────────────────────┼─────────────────┤\n",
              "│ dense_88 (<span style=\"color: #0087ff; text-decoration-color: #0087ff\">Dense</span>)                     │ (<span style=\"color: #00d7ff; text-decoration-color: #00d7ff\">None</span>, <span style=\"color: #00af00; text-decoration-color: #00af00\">128</span>)                 │          <span style=\"color: #00af00; text-decoration-color: #00af00\">16,512</span> │\n",
              "├──────────────────────────────────────┼─────────────────────────────┼─────────────────┤\n",
              "│ dropout_59 (<span style=\"color: #0087ff; text-decoration-color: #0087ff\">Dropout</span>)                 │ (<span style=\"color: #00d7ff; text-decoration-color: #00d7ff\">None</span>, <span style=\"color: #00af00; text-decoration-color: #00af00\">128</span>)                 │               <span style=\"color: #00af00; text-decoration-color: #00af00\">0</span> │\n",
              "├──────────────────────────────────────┼─────────────────────────────┼─────────────────┤\n",
              "│ dense_89 (<span style=\"color: #0087ff; text-decoration-color: #0087ff\">Dense</span>)                     │ (<span style=\"color: #00d7ff; text-decoration-color: #00d7ff\">None</span>, <span style=\"color: #00af00; text-decoration-color: #00af00\">128</span>)                 │          <span style=\"color: #00af00; text-decoration-color: #00af00\">16,512</span> │\n",
              "├──────────────────────────────────────┼─────────────────────────────┼─────────────────┤\n",
              "│ dropout_60 (<span style=\"color: #0087ff; text-decoration-color: #0087ff\">Dropout</span>)                 │ (<span style=\"color: #00d7ff; text-decoration-color: #00d7ff\">None</span>, <span style=\"color: #00af00; text-decoration-color: #00af00\">128</span>)                 │               <span style=\"color: #00af00; text-decoration-color: #00af00\">0</span> │\n",
              "├──────────────────────────────────────┼─────────────────────────────┼─────────────────┤\n",
              "│ dense_90 (<span style=\"color: #0087ff; text-decoration-color: #0087ff\">Dense</span>)                     │ (<span style=\"color: #00d7ff; text-decoration-color: #00d7ff\">None</span>, <span style=\"color: #00af00; text-decoration-color: #00af00\">64</span>)                  │           <span style=\"color: #00af00; text-decoration-color: #00af00\">8,256</span> │\n",
              "├──────────────────────────────────────┼─────────────────────────────┼─────────────────┤\n",
              "│ dropout_61 (<span style=\"color: #0087ff; text-decoration-color: #0087ff\">Dropout</span>)                 │ (<span style=\"color: #00d7ff; text-decoration-color: #00d7ff\">None</span>, <span style=\"color: #00af00; text-decoration-color: #00af00\">64</span>)                  │               <span style=\"color: #00af00; text-decoration-color: #00af00\">0</span> │\n",
              "├──────────────────────────────────────┼─────────────────────────────┼─────────────────┤\n",
              "│ dense_91 (<span style=\"color: #0087ff; text-decoration-color: #0087ff\">Dense</span>)                     │ (<span style=\"color: #00d7ff; text-decoration-color: #00d7ff\">None</span>, <span style=\"color: #00af00; text-decoration-color: #00af00\">1</span>)                   │              <span style=\"color: #00af00; text-decoration-color: #00af00\">65</span> │\n",
              "└──────────────────────────────────────┴─────────────────────────────┴─────────────────┘\n",
              "</pre>\n"
            ]
          },
          "metadata": {}
        },
        {
          "output_type": "display_data",
          "data": {
            "text/plain": [
              "\u001b[1m Total params: \u001b[0m\u001b[38;5;34m54,401\u001b[0m (212.50 KB)\n"
            ],
            "text/html": [
              "<pre style=\"white-space:pre;overflow-x:auto;line-height:normal;font-family:Menlo,'DejaVu Sans Mono',consolas,'Courier New',monospace\"><span style=\"font-weight: bold\"> Total params: </span><span style=\"color: #00af00; text-decoration-color: #00af00\">54,401</span> (212.50 KB)\n",
              "</pre>\n"
            ]
          },
          "metadata": {}
        },
        {
          "output_type": "display_data",
          "data": {
            "text/plain": [
              "\u001b[1m Trainable params: \u001b[0m\u001b[38;5;34m54,401\u001b[0m (212.50 KB)\n"
            ],
            "text/html": [
              "<pre style=\"white-space:pre;overflow-x:auto;line-height:normal;font-family:Menlo,'DejaVu Sans Mono',consolas,'Courier New',monospace\"><span style=\"font-weight: bold\"> Trainable params: </span><span style=\"color: #00af00; text-decoration-color: #00af00\">54,401</span> (212.50 KB)\n",
              "</pre>\n"
            ]
          },
          "metadata": {}
        },
        {
          "output_type": "display_data",
          "data": {
            "text/plain": [
              "\u001b[1m Non-trainable params: \u001b[0m\u001b[38;5;34m0\u001b[0m (0.00 B)\n"
            ],
            "text/html": [
              "<pre style=\"white-space:pre;overflow-x:auto;line-height:normal;font-family:Menlo,'DejaVu Sans Mono',consolas,'Courier New',monospace\"><span style=\"font-weight: bold\"> Non-trainable params: </span><span style=\"color: #00af00; text-decoration-color: #00af00\">0</span> (0.00 B)\n",
              "</pre>\n"
            ]
          },
          "metadata": {}
        }
      ]
    },
    {
      "cell_type": "code",
      "source": [
        "neg, pos = np.bincount(df['target'])\n",
        "total = neg + pos\n",
        "print('Examples:\\n    Total: {}\\n    Positive: {} ({:.2f}% of total)\\n'.format(\n",
        "    total, pos, 100 * pos / total))"
      ],
      "metadata": {
        "colab": {
          "base_uri": "https://localhost:8080/"
        },
        "id": "JTwnhj28XWqA",
        "outputId": "848d27dd-0751-40bf-e6c6-9c931d4052f7"
      },
      "execution_count": 162,
      "outputs": [
        {
          "output_type": "stream",
          "name": "stdout",
          "text": [
            "Examples:\n",
            "    Total: 24968\n",
            "    Positive: 1423 (5.70% of total)\n",
            "\n"
          ]
        }
      ]
    },
    {
      "cell_type": "code",
      "source": [
        "initial_bias = np.log([pos/neg])\n",
        "initial_bias"
      ],
      "metadata": {
        "colab": {
          "base_uri": "https://localhost:8080/"
        },
        "id": "vKQvwmW2YFPM",
        "outputId": "5a576e4e-cba4-4bc3-a6f1-83e96c0db5b5"
      },
      "execution_count": 163,
      "outputs": [
        {
          "output_type": "execute_result",
          "data": {
            "text/plain": [
              "array([-2.80614616])"
            ]
          },
          "metadata": {},
          "execution_count": 163
        }
      ]
    },
    {
      "cell_type": "code",
      "source": [
        "# 임시 디렉토리와 파일 경로 생성\n",
        "initial_weights_path = os.path.join(tempfile.mkdtemp(), 'initial_weights.weights.h5')\n",
        "\n",
        "# 모델의 초기 가중치 저장\n",
        "model.save_weights(initial_weights_path)"
      ],
      "metadata": {
        "id": "jlbUvBTfaAci"
      },
      "execution_count": 164,
      "outputs": []
    },
    {
      "cell_type": "code",
      "source": [
        "model = make_model()\n",
        "model.load_weights(initial_weights_path)\n",
        "model.layers[-1].bias.assign([0.0])\n",
        "zero_bias_history = model.fit(\n",
        "    x_train,\n",
        "    y_train,\n",
        "    batch_size=BATCH_SIZE,\n",
        "    epochs=20,\n",
        "    validation_data=(x_val, y_val),\n",
        "    verbose=1)"
      ],
      "metadata": {
        "colab": {
          "base_uri": "https://localhost:8080/"
        },
        "id": "RLAhWDeDavKD",
        "outputId": "03239ecf-66da-41ff-c8be-1a03789bfac4"
      },
      "execution_count": 166,
      "outputs": [
        {
          "output_type": "stream",
          "name": "stdout",
          "text": [
            "Epoch 1/20\n"
          ]
        },
        {
          "output_type": "stream",
          "name": "stderr",
          "text": [
            "/usr/local/lib/python3.10/dist-packages/keras/src/layers/core/dense.py:87: UserWarning: Do not pass an `input_shape`/`input_dim` argument to a layer. When using Sequential models, prefer using an `Input(shape)` object as the first layer in the model instead.\n",
            "  super().__init__(activity_regularizer=activity_regularizer, **kwargs)\n"
          ]
        },
        {
          "output_type": "stream",
          "name": "stdout",
          "text": [
            "\u001b[1m5/5\u001b[0m \u001b[32m━━━━━━━━━━━━━━━━━━━━\u001b[0m\u001b[37m\u001b[0m \u001b[1m14s\u001b[0m 2s/step - accuracy: 0.6086 - auc: 0.5101 - fn: 625.1667 - fp: 6897.8335 - loss: 0.9093 - prc: 0.0580 - precision: 0.0578 - recall: 0.3855 - tn: 10532.1670 - tp: 423.5000 - val_accuracy: 0.4684 - val_auc: 0.5506 - val_fn: 104.0000 - val_fp: 2551.0000 - val_loss: 0.6963 - val_prc: 0.0652 - val_precision: 0.0639 - val_recall: 0.6259 - val_tn: 2165.0000 - val_tp: 174.0000\n",
            "Epoch 2/20\n",
            "\u001b[1m5/5\u001b[0m \u001b[32m━━━━━━━━━━━━━━━━━━━━\u001b[0m\u001b[37m\u001b[0m \u001b[1m0s\u001b[0m 20ms/step - accuracy: 0.5345 - auc: 0.5066 - fn: 415.0000 - fp: 5791.0000 - loss: 0.7916 - prc: 0.0623 - precision: 0.0568 - recall: 0.4631 - tn: 6928.3335 - tp: 350.3333 - val_accuracy: 0.8092 - val_auc: 0.5297 - val_fn: 235.0000 - val_fp: 718.0000 - val_loss: 0.6271 - val_prc: 0.0605 - val_precision: 0.0565 - val_recall: 0.1547 - val_tn: 3998.0000 - val_tp: 43.0000\n",
            "Epoch 3/20\n",
            "\u001b[1m5/5\u001b[0m \u001b[32m━━━━━━━━━━━━━━━━━━━━\u001b[0m\u001b[37m\u001b[0m \u001b[1m0s\u001b[0m 21ms/step - accuracy: 0.6107 - auc: 0.5166 - fn: 470.0000 - fp: 4719.6665 - loss: 0.6969 - prc: 0.0610 - precision: 0.0621 - recall: 0.4078 - tn: 7987.3335 - tp: 307.6667 - val_accuracy: 0.9355 - val_auc: 0.5142 - val_fn: 276.0000 - val_fp: 46.0000 - val_loss: 0.5678 - val_prc: 0.0568 - val_precision: 0.0417 - val_recall: 0.0072 - val_tn: 4670.0000 - val_tp: 2.0000\n",
            "Epoch 4/20\n",
            "\u001b[1m5/5\u001b[0m \u001b[32m━━━━━━━━━━━━━━━━━━━━\u001b[0m\u001b[37m\u001b[0m \u001b[1m0s\u001b[0m 31ms/step - accuracy: 0.6721 - auc: 0.4944 - fn: 549.8333 - fp: 3827.8333 - loss: 0.6190 - prc: 0.0579 - precision: 0.0566 - recall: 0.2975 - tn: 8878.1670 - tp: 228.8333 - val_accuracy: 0.9443 - val_auc: 0.5058 - val_fn: 278.0000 - val_fp: 0.0000e+00 - val_loss: 0.5164 - val_prc: 0.0538 - val_precision: 0.0000e+00 - val_recall: 0.0000e+00 - val_tn: 4716.0000 - val_tp: 0.0000e+00\n",
            "Epoch 5/20\n",
            "\u001b[1m5/5\u001b[0m \u001b[32m━━━━━━━━━━━━━━━━━━━━\u001b[0m\u001b[37m\u001b[0m \u001b[1m0s\u001b[0m 20ms/step - accuracy: 0.7372 - auc: 0.5242 - fn: 579.6667 - fp: 2930.8333 - loss: 0.5466 - prc: 0.0654 - precision: 0.0665 - recall: 0.2630 - tn: 9768.6670 - tp: 205.5000 - val_accuracy: 0.9443 - val_auc: 0.4955 - val_fn: 278.0000 - val_fp: 0.0000e+00 - val_loss: 0.4715 - val_prc: 0.0523 - val_precision: 0.0000e+00 - val_recall: 0.0000e+00 - val_tn: 4716.0000 - val_tp: 0.0000e+00\n",
            "Epoch 6/20\n",
            "\u001b[1m5/5\u001b[0m \u001b[32m━━━━━━━━━━━━━━━━━━━━\u001b[0m\u001b[37m\u001b[0m \u001b[1m0s\u001b[0m 22ms/step - accuracy: 0.7842 - auc: 0.5046 - fn: 632.3333 - fp: 2250.6667 - loss: 0.4920 - prc: 0.0570 - precision: 0.0562 - recall: 0.1797 - tn: 10466.8330 - tp: 134.8333 - val_accuracy: 0.9443 - val_auc: 0.4888 - val_fn: 278.0000 - val_fp: 0.0000e+00 - val_loss: 0.4322 - val_prc: 0.0514 - val_precision: 0.0000e+00 - val_recall: 0.0000e+00 - val_tn: 4716.0000 - val_tp: 0.0000e+00\n",
            "Epoch 7/20\n",
            "\u001b[1m5/5\u001b[0m \u001b[32m━━━━━━━━━━━━━━━━━━━━\u001b[0m\u001b[37m\u001b[0m \u001b[1m0s\u001b[0m 21ms/step - accuracy: 0.8176 - auc: 0.5018 - fn: 674.6667 - fp: 1758.3334 - loss: 0.4504 - prc: 0.0582 - precision: 0.0574 - recall: 0.1387 - tn: 10945.3330 - tp: 106.3333 - val_accuracy: 0.9443 - val_auc: 0.4836 - val_fn: 278.0000 - val_fp: 0.0000e+00 - val_loss: 0.3980 - val_prc: 0.0508 - val_precision: 0.0000e+00 - val_recall: 0.0000e+00 - val_tn: 4716.0000 - val_tp: 0.0000e+00\n",
            "Epoch 8/20\n",
            "\u001b[1m5/5\u001b[0m \u001b[32m━━━━━━━━━━━━━━━━━━━━\u001b[0m\u001b[37m\u001b[0m \u001b[1m0s\u001b[0m 32ms/step - accuracy: 0.8458 - auc: 0.4964 - fn: 694.0000 - fp: 1367.0000 - loss: 0.4215 - prc: 0.0567 - precision: 0.0560 - recall: 0.1047 - tn: 11342.0000 - tp: 81.6667 - val_accuracy: 0.9443 - val_auc: 0.4811 - val_fn: 278.0000 - val_fp: 0.0000e+00 - val_loss: 0.3685 - val_prc: 0.0505 - val_precision: 0.0000e+00 - val_recall: 0.0000e+00 - val_tn: 4716.0000 - val_tp: 0.0000e+00\n",
            "Epoch 9/20\n",
            "\u001b[1m5/5\u001b[0m \u001b[32m━━━━━━━━━━━━━━━━━━━━\u001b[0m\u001b[37m\u001b[0m \u001b[1m0s\u001b[0m 20ms/step - accuracy: 0.8677 - auc: 0.4937 - fn: 718.3333 - fp: 1036.5000 - loss: 0.3959 - prc: 0.0620 - precision: 0.0653 - recall: 0.0909 - tn: 11660.1670 - tp: 69.6667 - val_accuracy: 0.9443 - val_auc: 0.4792 - val_fn: 278.0000 - val_fp: 0.0000e+00 - val_loss: 0.3432 - val_prc: 0.0503 - val_precision: 0.0000e+00 - val_recall: 0.0000e+00 - val_tn: 4716.0000 - val_tp: 0.0000e+00\n",
            "Epoch 10/20\n",
            "\u001b[1m5/5\u001b[0m \u001b[32m━━━━━━━━━━━━━━━━━━━━\u001b[0m\u001b[37m\u001b[0m \u001b[1m0s\u001b[0m 21ms/step - accuracy: 0.8859 - auc: 0.4883 - fn: 724.6667 - fp: 806.0000 - loss: 0.3697 - prc: 0.0565 - precision: 0.0539 - recall: 0.0601 - tn: 11905.6670 - tp: 48.3333 - val_accuracy: 0.9443 - val_auc: 0.4806 - val_fn: 278.0000 - val_fp: 0.0000e+00 - val_loss: 0.3218 - val_prc: 0.0505 - val_precision: 0.0000e+00 - val_recall: 0.0000e+00 - val_tn: 4716.0000 - val_tp: 0.0000e+00\n",
            "Epoch 11/20\n",
            "\u001b[1m5/5\u001b[0m \u001b[32m━━━━━━━━━━━━━━━━━━━━\u001b[0m\u001b[37m\u001b[0m \u001b[1m0s\u001b[0m 21ms/step - accuracy: 0.8928 - auc: 0.5049 - fn: 724.1667 - fp: 715.0000 - loss: 0.3537 - prc: 0.0563 - precision: 0.0586 - recall: 0.0603 - tn: 12001.6670 - tp: 43.8333 - val_accuracy: 0.9443 - val_auc: 0.4821 - val_fn: 278.0000 - val_fp: 0.0000e+00 - val_loss: 0.3041 - val_prc: 0.0507 - val_precision: 0.0000e+00 - val_recall: 0.0000e+00 - val_tn: 4716.0000 - val_tp: 0.0000e+00\n",
            "Epoch 12/20\n",
            "\u001b[1m5/5\u001b[0m \u001b[32m━━━━━━━━━━━━━━━━━━━━\u001b[0m\u001b[37m\u001b[0m \u001b[1m0s\u001b[0m 20ms/step - accuracy: 0.9021 - auc: 0.4946 - fn: 748.0000 - fp: 548.8333 - loss: 0.3418 - prc: 0.0604 - precision: 0.0632 - recall: 0.0474 - tn: 12151.3330 - tp: 36.5000 - val_accuracy: 0.9443 - val_auc: 0.4864 - val_fn: 278.0000 - val_fp: 0.0000e+00 - val_loss: 0.2896 - val_prc: 0.0512 - val_precision: 0.0000e+00 - val_recall: 0.0000e+00 - val_tn: 4716.0000 - val_tp: 0.0000e+00\n",
            "Epoch 13/20\n",
            "\u001b[1m5/5\u001b[0m \u001b[32m━━━━━━━━━━━━━━━━━━━━\u001b[0m\u001b[37m\u001b[0m \u001b[1m0s\u001b[0m 20ms/step - accuracy: 0.9093 - auc: 0.5223 - fn: 744.1667 - fp: 466.6667 - loss: 0.3264 - prc: 0.0620 - precision: 0.0617 - recall: 0.0399 - tn: 12243.3330 - tp: 30.5000 - val_accuracy: 0.9443 - val_auc: 0.4914 - val_fn: 278.0000 - val_fp: 0.0000e+00 - val_loss: 0.2776 - val_prc: 0.0520 - val_precision: 0.0000e+00 - val_recall: 0.0000e+00 - val_tn: 4716.0000 - val_tp: 0.0000e+00\n",
            "Epoch 14/20\n",
            "\u001b[1m5/5\u001b[0m \u001b[32m━━━━━━━━━━━━━━━━━━━━\u001b[0m\u001b[37m\u001b[0m \u001b[1m0s\u001b[0m 21ms/step - accuracy: 0.9146 - auc: 0.4798 - fn: 758.0000 - fp: 383.6667 - loss: 0.3290 - prc: 0.0543 - precision: 0.0422 - recall: 0.0221 - tn: 12325.3330 - tp: 17.6667 - val_accuracy: 0.9443 - val_auc: 0.4976 - val_fn: 278.0000 - val_fp: 0.0000e+00 - val_loss: 0.2681 - val_prc: 0.0528 - val_precision: 0.0000e+00 - val_recall: 0.0000e+00 - val_tn: 4716.0000 - val_tp: 0.0000e+00\n",
            "Epoch 15/20\n",
            "\u001b[1m5/5\u001b[0m \u001b[32m━━━━━━━━━━━━━━━━━━━━\u001b[0m\u001b[37m\u001b[0m \u001b[1m0s\u001b[0m 25ms/step - accuracy: 0.9201 - auc: 0.5127 - fn: 759.3333 - fp: 313.6667 - loss: 0.3186 - prc: 0.0603 - precision: 0.0709 - recall: 0.0302 - tn: 12387.3330 - tp: 24.3333 - val_accuracy: 0.9443 - val_auc: 0.5035 - val_fn: 278.0000 - val_fp: 0.0000e+00 - val_loss: 0.2605 - val_prc: 0.0538 - val_precision: 0.0000e+00 - val_recall: 0.0000e+00 - val_tn: 4716.0000 - val_tp: 0.0000e+00\n",
            "Epoch 16/20\n",
            "\u001b[1m5/5\u001b[0m \u001b[32m━━━━━━━━━━━━━━━━━━━━\u001b[0m\u001b[37m\u001b[0m \u001b[1m0s\u001b[0m 30ms/step - accuracy: 0.9260 - auc: 0.5125 - fn: 754.8333 - fp: 247.3333 - loss: 0.3052 - prc: 0.0590 - precision: 0.0598 - recall: 0.0212 - tn: 12467.0000 - tp: 15.5000 - val_accuracy: 0.9443 - val_auc: 0.5100 - val_fn: 278.0000 - val_fp: 0.0000e+00 - val_loss: 0.2543 - val_prc: 0.0551 - val_precision: 0.0000e+00 - val_recall: 0.0000e+00 - val_tn: 4716.0000 - val_tp: 0.0000e+00\n",
            "Epoch 17/20\n",
            "\u001b[1m5/5\u001b[0m \u001b[32m━━━━━━━━━━━━━━━━━━━━\u001b[0m\u001b[37m\u001b[0m \u001b[1m0s\u001b[0m 37ms/step - accuracy: 0.9250 - auc: 0.5102 - fn: 759.6667 - fp: 251.5000 - loss: 0.3038 - prc: 0.0594 - precision: 0.0490 - recall: 0.0167 - tn: 12461.1670 - tp: 12.3333 - val_accuracy: 0.9443 - val_auc: 0.5169 - val_fn: 278.0000 - val_fp: 0.0000e+00 - val_loss: 0.2495 - val_prc: 0.0564 - val_precision: 0.0000e+00 - val_recall: 0.0000e+00 - val_tn: 4716.0000 - val_tp: 0.0000e+00\n",
            "Epoch 18/20\n",
            "\u001b[1m5/5\u001b[0m \u001b[32m━━━━━━━━━━━━━━━━━━━━\u001b[0m\u001b[37m\u001b[0m \u001b[1m0s\u001b[0m 36ms/step - accuracy: 0.9282 - auc: 0.5185 - fn: 763.8333 - fp: 212.8333 - loss: 0.2955 - prc: 0.0588 - precision: 0.0313 - recall: 0.0088 - tn: 12500.5000 - tp: 7.5000 - val_accuracy: 0.9443 - val_auc: 0.5231 - val_fn: 278.0000 - val_fp: 0.0000e+00 - val_loss: 0.2459 - val_prc: 0.0575 - val_precision: 0.0000e+00 - val_recall: 0.0000e+00 - val_tn: 4716.0000 - val_tp: 0.0000e+00\n",
            "Epoch 19/20\n",
            "\u001b[1m5/5\u001b[0m \u001b[32m━━━━━━━━━━━━━━━━━━━━\u001b[0m\u001b[37m\u001b[0m \u001b[1m0s\u001b[0m 38ms/step - accuracy: 0.9279 - auc: 0.5086 - fn: 772.5000 - fp: 194.0000 - loss: 0.3035 - prc: 0.0586 - precision: 0.0432 - recall: 0.0112 - tn: 12508.5000 - tp: 9.6667 - val_accuracy: 0.9443 - val_auc: 0.5294 - val_fn: 278.0000 - val_fp: 0.0000e+00 - val_loss: 0.2431 - val_prc: 0.0588 - val_precision: 0.0000e+00 - val_recall: 0.0000e+00 - val_tn: 4716.0000 - val_tp: 0.0000e+00\n",
            "Epoch 20/20\n",
            "\u001b[1m5/5\u001b[0m \u001b[32m━━━━━━━━━━━━━━━━━━━━\u001b[0m\u001b[37m\u001b[0m \u001b[1m0s\u001b[0m 32ms/step - accuracy: 0.9322 - auc: 0.5156 - fn: 743.1667 - fp: 182.1667 - loss: 0.2928 - prc: 0.0656 - precision: 0.1152 - recall: 0.0311 - tn: 12537.3330 - tp: 22.0000 - val_accuracy: 0.9443 - val_auc: 0.5345 - val_fn: 278.0000 - val_fp: 0.0000e+00 - val_loss: 0.2408 - val_prc: 0.0598 - val_precision: 0.0000e+00 - val_recall: 0.0000e+00 - val_tn: 4716.0000 - val_tp: 0.0000e+00\n"
          ]
        }
      ]
    },
    {
      "cell_type": "code",
      "source": [
        "model = make_model()\n",
        "model.load_weights(initial_weights_path)\n",
        "careful_bias_history = model.fit(\n",
        "    x_train,\n",
        "    y_train,\n",
        "    batch_size=BATCH_SIZE,\n",
        "    epochs=20,\n",
        "    validation_data=(x_val, y_val),\n",
        "    verbose=1)"
      ],
      "metadata": {
        "colab": {
          "base_uri": "https://localhost:8080/"
        },
        "id": "LyWNpnqkX29W",
        "outputId": "177366f6-9a36-4d3d-e48b-db5ec6af50be"
      },
      "execution_count": 167,
      "outputs": [
        {
          "output_type": "stream",
          "name": "stdout",
          "text": [
            "Epoch 1/20\n"
          ]
        },
        {
          "output_type": "stream",
          "name": "stderr",
          "text": [
            "/usr/local/lib/python3.10/dist-packages/keras/src/layers/core/dense.py:87: UserWarning: Do not pass an `input_shape`/`input_dim` argument to a layer. When using Sequential models, prefer using an `Input(shape)` object as the first layer in the model instead.\n",
            "  super().__init__(activity_regularizer=activity_regularizer, **kwargs)\n"
          ]
        },
        {
          "output_type": "stream",
          "name": "stdout",
          "text": [
            "\u001b[1m5/5\u001b[0m \u001b[32m━━━━━━━━━━━━━━━━━━━━\u001b[0m\u001b[37m\u001b[0m \u001b[1m13s\u001b[0m 2s/step - accuracy: 0.7556 - auc: 0.5068 - fn: 808.6667 - fp: 3858.8333 - loss: 0.6600 - prc: 0.0572 - precision: 0.0584 - recall: 0.2192 - tn: 13569.3330 - tp: 241.8333 - val_accuracy: 0.9419 - val_auc: 0.5523 - val_fn: 278.0000 - val_fp: 12.0000 - val_loss: 0.4727 - val_prc: 0.0657 - val_precision: 0.0000e+00 - val_recall: 0.0000e+00 - val_tn: 4704.0000 - val_tp: 0.0000e+00\n",
            "Epoch 2/20\n",
            "\u001b[1m5/5\u001b[0m \u001b[32m━━━━━━━━━━━━━━━━━━━━\u001b[0m\u001b[37m\u001b[0m \u001b[1m0s\u001b[0m 35ms/step - accuracy: 0.7290 - auc: 0.5104 - fn: 577.3333 - fp: 3028.1667 - loss: 0.5783 - prc: 0.0591 - precision: 0.0595 - recall: 0.2543 - tn: 9688.6670 - tp: 190.5000 - val_accuracy: 0.9441 - val_auc: 0.5347 - val_fn: 278.0000 - val_fp: 1.0000 - val_loss: 0.4285 - val_prc: 0.0616 - val_precision: 0.0000e+00 - val_recall: 0.0000e+00 - val_tn: 4715.0000 - val_tp: 0.0000e+00\n",
            "Epoch 3/20\n",
            "\u001b[1m5/5\u001b[0m \u001b[32m━━━━━━━━━━━━━━━━━━━━\u001b[0m\u001b[37m\u001b[0m \u001b[1m0s\u001b[0m 40ms/step - accuracy: 0.7837 - auc: 0.5035 - fn: 634.3333 - fp: 2245.3333 - loss: 0.5093 - prc: 0.0587 - precision: 0.0589 - recall: 0.1837 - tn: 10464.1670 - tp: 140.8333 - val_accuracy: 0.9443 - val_auc: 0.5201 - val_fn: 278.0000 - val_fp: 0.0000e+00 - val_loss: 0.3926 - val_prc: 0.0579 - val_precision: 0.0000e+00 - val_recall: 0.0000e+00 - val_tn: 4716.0000 - val_tp: 0.0000e+00\n",
            "Epoch 4/20\n",
            "\u001b[1m5/5\u001b[0m \u001b[32m━━━━━━━━━━━━━━━━━━━━\u001b[0m\u001b[37m\u001b[0m \u001b[1m0s\u001b[0m 26ms/step - accuracy: 0.8269 - auc: 0.4992 - fn: 665.5000 - fp: 1630.5000 - loss: 0.4510 - prc: 0.0584 - precision: 0.0632 - recall: 0.1459 - tn: 11078.5000 - tp: 110.1667 - val_accuracy: 0.9443 - val_auc: 0.5111 - val_fn: 278.0000 - val_fp: 0.0000e+00 - val_loss: 0.3632 - val_prc: 0.0549 - val_precision: 0.0000e+00 - val_recall: 0.0000e+00 - val_tn: 4716.0000 - val_tp: 0.0000e+00\n",
            "Epoch 5/20\n",
            "\u001b[1m5/5\u001b[0m \u001b[32m━━━━━━━━━━━━━━━━━━━━\u001b[0m\u001b[37m\u001b[0m \u001b[1m0s\u001b[0m 39ms/step - accuracy: 0.8629 - auc: 0.4996 - fn: 686.1667 - fp: 1141.8334 - loss: 0.4051 - prc: 0.0563 - precision: 0.0583 - recall: 0.0960 - tn: 11582.8330 - tp: 73.8333 - val_accuracy: 0.9443 - val_auc: 0.5037 - val_fn: 278.0000 - val_fp: 0.0000e+00 - val_loss: 0.3390 - val_prc: 0.0532 - val_precision: 0.0000e+00 - val_recall: 0.0000e+00 - val_tn: 4716.0000 - val_tp: 0.0000e+00\n",
            "Epoch 6/20\n",
            "\u001b[1m5/5\u001b[0m \u001b[32m━━━━━━━━━━━━━━━━━━━━\u001b[0m\u001b[37m\u001b[0m \u001b[1m0s\u001b[0m 38ms/step - accuracy: 0.8855 - auc: 0.5116 - fn: 707.3333 - fp: 837.3333 - loss: 0.3750 - prc: 0.0615 - precision: 0.0769 - recall: 0.0906 - tn: 11876.0000 - tp: 64.0000 - val_accuracy: 0.9443 - val_auc: 0.4969 - val_fn: 278.0000 - val_fp: 0.0000e+00 - val_loss: 0.3189 - val_prc: 0.0525 - val_precision: 0.0000e+00 - val_recall: 0.0000e+00 - val_tn: 4716.0000 - val_tp: 0.0000e+00\n",
            "Epoch 7/20\n",
            "\u001b[1m5/5\u001b[0m \u001b[32m━━━━━━━━━━━━━━━━━━━━\u001b[0m\u001b[37m\u001b[0m \u001b[1m0s\u001b[0m 44ms/step - accuracy: 0.8962 - auc: 0.5034 - fn: 741.8333 - fp: 642.3333 - loss: 0.3565 - prc: 0.0588 - precision: 0.0576 - recall: 0.0506 - tn: 12062.3330 - tp: 38.1667 - val_accuracy: 0.9443 - val_auc: 0.4952 - val_fn: 278.0000 - val_fp: 0.0000e+00 - val_loss: 0.3020 - val_prc: 0.0524 - val_precision: 0.0000e+00 - val_recall: 0.0000e+00 - val_tn: 4716.0000 - val_tp: 0.0000e+00\n",
            "Epoch 8/20\n",
            "\u001b[1m5/5\u001b[0m \u001b[32m━━━━━━━━━━━━━━━━━━━━\u001b[0m\u001b[37m\u001b[0m \u001b[1m0s\u001b[0m 37ms/step - accuracy: 0.9120 - auc: 0.5022 - fn: 746.1667 - fp: 437.3333 - loss: 0.3337 - prc: 0.0575 - precision: 0.0630 - recall: 0.0383 - tn: 12271.6670 - tp: 29.5000 - val_accuracy: 0.9443 - val_auc: 0.4947 - val_fn: 278.0000 - val_fp: 0.0000e+00 - val_loss: 0.2881 - val_prc: 0.0522 - val_precision: 0.0000e+00 - val_recall: 0.0000e+00 - val_tn: 4716.0000 - val_tp: 0.0000e+00\n",
            "Epoch 9/20\n",
            "\u001b[1m5/5\u001b[0m \u001b[32m━━━━━━━━━━━━━━━━━━━━\u001b[0m\u001b[37m\u001b[0m \u001b[1m0s\u001b[0m 30ms/step - accuracy: 0.9209 - auc: 0.4967 - fn: 749.0000 - fp: 319.8333 - loss: 0.3173 - prc: 0.0582 - precision: 0.0666 - recall: 0.0294 - tn: 12392.0000 - tp: 23.8333 - val_accuracy: 0.9443 - val_auc: 0.4959 - val_fn: 278.0000 - val_fp: 0.0000e+00 - val_loss: 0.2767 - val_prc: 0.0525 - val_precision: 0.0000e+00 - val_recall: 0.0000e+00 - val_tn: 4716.0000 - val_tp: 0.0000e+00\n",
            "Epoch 10/20\n",
            "\u001b[1m5/5\u001b[0m \u001b[32m━━━━━━━━━━━━━━━━━━━━\u001b[0m\u001b[37m\u001b[0m \u001b[1m0s\u001b[0m 21ms/step - accuracy: 0.9227 - auc: 0.4911 - fn: 756.0000 - fp: 286.1667 - loss: 0.3134 - prc: 0.0591 - precision: 0.0780 - recall: 0.0314 - tn: 12419.5000 - tp: 23.0000 - val_accuracy: 0.9443 - val_auc: 0.4981 - val_fn: 278.0000 - val_fp: 0.0000e+00 - val_loss: 0.2676 - val_prc: 0.0528 - val_precision: 0.0000e+00 - val_recall: 0.0000e+00 - val_tn: 4716.0000 - val_tp: 0.0000e+00\n",
            "Epoch 11/20\n",
            "\u001b[1m5/5\u001b[0m \u001b[32m━━━━━━━━━━━━━━━━━━━━\u001b[0m\u001b[37m\u001b[0m \u001b[1m0s\u001b[0m 20ms/step - accuracy: 0.9273 - auc: 0.4902 - fn: 762.0000 - fp: 215.5000 - loss: 0.3012 - prc: 0.0546 - precision: 0.0408 - recall: 0.0120 - tn: 12498.1670 - tp: 9.0000 - val_accuracy: 0.9443 - val_auc: 0.5017 - val_fn: 278.0000 - val_fp: 0.0000e+00 - val_loss: 0.2601 - val_prc: 0.0534 - val_precision: 0.0000e+00 - val_recall: 0.0000e+00 - val_tn: 4716.0000 - val_tp: 0.0000e+00\n",
            "Epoch 12/20\n",
            "\u001b[1m5/5\u001b[0m \u001b[32m━━━━━━━━━━━━━━━━━━━━\u001b[0m\u001b[37m\u001b[0m \u001b[1m0s\u001b[0m 32ms/step - accuracy: 0.9289 - auc: 0.5092 - fn: 767.6667 - fp: 178.1667 - loss: 0.2979 - prc: 0.0583 - precision: 0.0434 - recall: 0.0106 - tn: 12530.5000 - tp: 8.3333 - val_accuracy: 0.9443 - val_auc: 0.5088 - val_fn: 278.0000 - val_fp: 0.0000e+00 - val_loss: 0.2541 - val_prc: 0.0547 - val_precision: 0.0000e+00 - val_recall: 0.0000e+00 - val_tn: 4716.0000 - val_tp: 0.0000e+00\n",
            "Epoch 13/20\n",
            "\u001b[1m5/5\u001b[0m \u001b[32m━━━━━━━━━━━━━━━━━━━━\u001b[0m\u001b[37m\u001b[0m \u001b[1m0s\u001b[0m 20ms/step - accuracy: 0.9336 - auc: 0.5115 - fn: 759.8333 - fp: 132.0000 - loss: 0.2857 - prc: 0.0591 - precision: 0.0362 - recall: 0.0066 - tn: 12586.8330 - tp: 6.0000 - val_accuracy: 0.9443 - val_auc: 0.5153 - val_fn: 278.0000 - val_fp: 0.0000e+00 - val_loss: 0.2492 - val_prc: 0.0557 - val_precision: 0.0000e+00 - val_recall: 0.0000e+00 - val_tn: 4716.0000 - val_tp: 0.0000e+00\n",
            "Epoch 14/20\n",
            "\u001b[1m5/5\u001b[0m \u001b[32m━━━━━━━━━━━━━━━━━━━━\u001b[0m\u001b[37m\u001b[0m \u001b[1m0s\u001b[0m 21ms/step - accuracy: 0.9330 - auc: 0.4999 - fn: 775.3333 - fp: 126.3333 - loss: 0.2905 - prc: 0.0597 - precision: 0.0514 - recall: 0.0087 - tn: 12575.5000 - tp: 7.5000 - val_accuracy: 0.9443 - val_auc: 0.5205 - val_fn: 278.0000 - val_fp: 0.0000e+00 - val_loss: 0.2454 - val_prc: 0.0568 - val_precision: 0.0000e+00 - val_recall: 0.0000e+00 - val_tn: 4716.0000 - val_tp: 0.0000e+00\n",
            "Epoch 15/20\n",
            "\u001b[1m5/5\u001b[0m \u001b[32m━━━━━━━━━━━━━━━━━━━━\u001b[0m\u001b[37m\u001b[0m \u001b[1m0s\u001b[0m 22ms/step - accuracy: 0.9365 - auc: 0.5166 - fn: 768.5000 - fp: 87.5000 - loss: 0.2776 - prc: 0.0591 - precision: 0.0376 - recall: 0.0045 - tn: 12624.3330 - tp: 4.3333 - val_accuracy: 0.9443 - val_auc: 0.5268 - val_fn: 278.0000 - val_fp: 0.0000e+00 - val_loss: 0.2423 - val_prc: 0.0582 - val_precision: 0.0000e+00 - val_recall: 0.0000e+00 - val_tn: 4716.0000 - val_tp: 0.0000e+00\n",
            "Epoch 16/20\n",
            "\u001b[1m5/5\u001b[0m \u001b[32m━━━━━━━━━━━━━━━━━━━━\u001b[0m\u001b[37m\u001b[0m \u001b[1m0s\u001b[0m 30ms/step - accuracy: 0.9358 - auc: 0.5180 - fn: 770.6667 - fp: 83.6667 - loss: 0.2817 - prc: 0.0629 - precision: 0.0651 - recall: 0.0076 - tn: 12624.3330 - tp: 6.0000 - val_accuracy: 0.9443 - val_auc: 0.5336 - val_fn: 278.0000 - val_fp: 0.0000e+00 - val_loss: 0.2399 - val_prc: 0.0597 - val_precision: 0.0000e+00 - val_recall: 0.0000e+00 - val_tn: 4716.0000 - val_tp: 0.0000e+00\n",
            "Epoch 17/20\n",
            "\u001b[1m5/5\u001b[0m \u001b[32m━━━━━━━━━━━━━━━━━━━━\u001b[0m\u001b[37m\u001b[0m \u001b[1m0s\u001b[0m 21ms/step - accuracy: 0.9370 - auc: 0.5250 - fn: 769.6667 - fp: 73.3333 - loss: 0.2752 - prc: 0.0646 - precision: 0.0976 - recall: 0.0102 - tn: 12634.3330 - tp: 7.3333 - val_accuracy: 0.9443 - val_auc: 0.5411 - val_fn: 278.0000 - val_fp: 0.0000e+00 - val_loss: 0.2380 - val_prc: 0.0614 - val_precision: 0.0000e+00 - val_recall: 0.0000e+00 - val_tn: 4716.0000 - val_tp: 0.0000e+00\n",
            "Epoch 18/20\n",
            "\u001b[1m5/5\u001b[0m \u001b[32m━━━━━━━━━━━━━━━━━━━━\u001b[0m\u001b[37m\u001b[0m \u001b[1m0s\u001b[0m 27ms/step - accuracy: 0.9395 - auc: 0.5107 - fn: 755.8333 - fp: 70.1667 - loss: 0.2727 - prc: 0.0589 - precision: 0.0784 - recall: 0.0080 - tn: 12653.1670 - tp: 5.5000 - val_accuracy: 0.9443 - val_auc: 0.5451 - val_fn: 278.0000 - val_fp: 0.0000e+00 - val_loss: 0.2365 - val_prc: 0.0625 - val_precision: 0.0000e+00 - val_recall: 0.0000e+00 - val_tn: 4716.0000 - val_tp: 0.0000e+00\n",
            "Epoch 19/20\n",
            "\u001b[1m5/5\u001b[0m \u001b[32m━━━━━━━━━━━━━━━━━━━━\u001b[0m\u001b[37m\u001b[0m \u001b[1m0s\u001b[0m 21ms/step - accuracy: 0.9374 - auc: 0.5116 - fn: 776.5000 - fp: 61.0000 - loss: 0.2793 - prc: 0.0629 - precision: 0.0940 - recall: 0.0079 - tn: 12640.6670 - tp: 6.5000 - val_accuracy: 0.9443 - val_auc: 0.5504 - val_fn: 278.0000 - val_fp: 0.0000e+00 - val_loss: 0.2356 - val_prc: 0.0638 - val_precision: 0.0000e+00 - val_recall: 0.0000e+00 - val_tn: 4716.0000 - val_tp: 0.0000e+00\n",
            "Epoch 20/20\n",
            "\u001b[1m5/5\u001b[0m \u001b[32m━━━━━━━━━━━━━━━━━━━━\u001b[0m\u001b[37m\u001b[0m \u001b[1m0s\u001b[0m 20ms/step - accuracy: 0.9371 - auc: 0.5411 - fn: 777.1667 - fp: 62.1667 - loss: 0.2708 - prc: 0.0668 - precision: 0.0558 - recall: 0.0048 - tn: 12641.6670 - tp: 3.6667 - val_accuracy: 0.9443 - val_auc: 0.5556 - val_fn: 278.0000 - val_fp: 0.0000e+00 - val_loss: 0.2348 - val_prc: 0.0649 - val_precision: 0.0000e+00 - val_recall: 0.0000e+00 - val_tn: 4716.0000 - val_tp: 0.0000e+00\n"
          ]
        }
      ]
    },
    {
      "cell_type": "code",
      "source": [
        "def plot_loss(history, label, n):\n",
        "  # Use a log scale on y-axis to show the wide range of values.\n",
        "  plt.semilogy(history.epoch, history.history['loss'],\n",
        "               color=colors[n], label='Train ' + label)\n",
        "  plt.semilogy(history.epoch, history.history['val_loss'],\n",
        "               color=colors[n], label='Val ' + label,\n",
        "               linestyle=\"--\")\n",
        "  plt.xlabel('Epoch')\n",
        "  plt.ylabel('Loss')"
      ],
      "metadata": {
        "id": "wgcufI12bxNf"
      },
      "execution_count": 168,
      "outputs": []
    },
    {
      "cell_type": "code",
      "source": [
        "plot_loss(zero_bias_history, \"Zero Bias\", 0)\n",
        "plot_loss(careful_bias_history, \"Careful Bias\", 1)"
      ],
      "metadata": {
        "colab": {
          "base_uri": "https://localhost:8080/",
          "height": 850
        },
        "id": "hE-jKe6fb2sF",
        "outputId": "c08829b5-988e-43e0-e28d-df35e34afcdf"
      },
      "execution_count": 169,
      "outputs": [
        {
          "output_type": "display_data",
          "data": {
            "text/plain": [
              "<Figure size 1200x1000 with 1 Axes>"
            ],
            "image/png": "[encoded data removed]"
          },
          "metadata": {}
        }
      ]
    },
    {
      "cell_type": "code",
      "source": [
        "model = make_model()\n",
        "model.load_weights(initial_weights_path)\n",
        "baseline_history = model.fit(\n",
        "    x_train,\n",
        "    y_train,\n",
        "    batch_size=BATCH_SIZE,\n",
        "    epochs=EPOCHS,\n",
        "    callbacks=[early_stopping],\n",
        "    validation_data=(x_val, y_val),\n",
        "    verbose=1)"
      ],
      "metadata": {
        "colab": {
          "base_uri": "https://localhost:8080/"
        },
        "id": "iSV1HQoLdWYs",
        "outputId": "b0b61769-9d08-42b6-a086-0d937627f1da"
      },
      "execution_count": 170,
      "outputs": [
        {
          "output_type": "stream",
          "name": "stdout",
          "text": [
            "Epoch 1/100\n"
          ]
        },
        {
          "output_type": "stream",
          "name": "stderr",
          "text": [
            "/usr/local/lib/python3.10/dist-packages/keras/src/layers/core/dense.py:87: UserWarning: Do not pass an `input_shape`/`input_dim` argument to a layer. When using Sequential models, prefer using an `Input(shape)` object as the first layer in the model instead.\n",
            "  super().__init__(activity_regularizer=activity_regularizer, **kwargs)\n"
          ]
        },
        {
          "output_type": "stream",
          "name": "stdout",
          "text": [
            "\u001b[1m5/5\u001b[0m \u001b[32m━━━━━━━━━━━━━━━━━━━━\u001b[0m\u001b[37m\u001b[0m \u001b[1m13s\u001b[0m 2s/step - accuracy: 0.7512 - auc: 0.5190 - fn: 822.1667 - fp: 3931.8333 - loss: 0.6639 - prc: 0.0614 - precision: 0.0580 - recall: 0.2174 - tn: 13482.0000 - tp: 242.6667 - val_accuracy: 0.9419 - val_auc: 0.5507 - val_fn: 278.0000 - val_fp: 12.0000 - val_loss: 0.4722 - val_prc: 0.0655 - val_precision: 0.0000e+00 - val_recall: 0.0000e+00 - val_tn: 4704.0000 - val_tp: 0.0000e+00\n",
            "Epoch 2/100\n",
            "\u001b[1m5/5\u001b[0m \u001b[32m━━━━━━━━━━━━━━━━━━━━\u001b[0m\u001b[37m\u001b[0m \u001b[1m10s\u001b[0m 21ms/step - accuracy: 0.7398 - auc: 0.5235 - fn: 575.5000 - fp: 2901.6667 - loss: 0.5706 - prc: 0.0614 - precision: 0.0632 - recall: 0.2579 - tn: 9810.3330 - tp: 197.1667 - val_accuracy: 0.9441 - val_auc: 0.5321 - val_fn: 278.0000 - val_fp: 1.0000 - val_loss: 0.4278 - val_prc: 0.0611 - val_precision: 0.0000e+00 - val_recall: 0.0000e+00 - val_tn: 4715.0000 - val_tp: 0.0000e+00\n",
            "Epoch 3/100\n",
            "\u001b[1m5/5\u001b[0m \u001b[32m━━━━━━━━━━━━━━━━━━━━\u001b[0m\u001b[37m\u001b[0m \u001b[1m0s\u001b[0m 31ms/step - accuracy: 0.7881 - auc: 0.4864 - fn: 639.0000 - fp: 2169.0000 - loss: 0.5075 - prc: 0.0560 - precision: 0.0580 - recall: 0.1751 - tn: 10538.8330 - tp: 137.8333 - val_accuracy: 0.9443 - val_auc: 0.5173 - val_fn: 278.0000 - val_fp: 0.0000e+00 - val_loss: 0.3920 - val_prc: 0.0578 - val_precision: 0.0000e+00 - val_recall: 0.0000e+00 - val_tn: 4716.0000 - val_tp: 0.0000e+00\n",
            "Epoch 4/100\n",
            "\u001b[1m5/5\u001b[0m \u001b[32m━━━━━━━━━━━━━━━━━━━━\u001b[0m\u001b[37m\u001b[0m \u001b[1m0s\u001b[0m 31ms/step - accuracy: 0.8266 - auc: 0.5184 - fn: 663.3333 - fp: 1628.6666 - loss: 0.4494 - prc: 0.0603 - precision: 0.0628 - recall: 0.1445 - tn: 11082.3330 - tp: 110.3333 - val_accuracy: 0.9443 - val_auc: 0.5101 - val_fn: 278.0000 - val_fp: 0.0000e+00 - val_loss: 0.3626 - val_prc: 0.0547 - val_precision: 0.0000e+00 - val_recall: 0.0000e+00 - val_tn: 4716.0000 - val_tp: 0.0000e+00\n",
            "Epoch 5/100\n",
            "\u001b[1m5/5\u001b[0m \u001b[32m━━━━━━━━━━━━━━━━━━━━\u001b[0m\u001b[37m\u001b[0m \u001b[1m0s\u001b[0m 24ms/step - accuracy: 0.8602 - auc: 0.4927 - fn: 707.6667 - fp: 1165.3334 - loss: 0.4119 - prc: 0.0567 - precision: 0.0548 - recall: 0.0877 - tn: 11546.5000 - tp: 65.1667 - val_accuracy: 0.9443 - val_auc: 0.5024 - val_fn: 278.0000 - val_fp: 0.0000e+00 - val_loss: 0.3384 - val_prc: 0.0532 - val_precision: 0.0000e+00 - val_recall: 0.0000e+00 - val_tn: 4716.0000 - val_tp: 0.0000e+00\n",
            "Epoch 6/100\n",
            "\u001b[1m5/5\u001b[0m \u001b[32m━━━━━━━━━━━━━━━━━━━━\u001b[0m\u001b[37m\u001b[0m \u001b[1m0s\u001b[0m 21ms/step - accuracy: 0.8822 - auc: 0.4923 - fn: 732.8333 - fp: 837.1667 - loss: 0.3811 - prc: 0.0565 - precision: 0.0524 - recall: 0.0597 - tn: 11867.1670 - tp: 47.5000 - val_accuracy: 0.9443 - val_auc: 0.4976 - val_fn: 278.0000 - val_fp: 0.0000e+00 - val_loss: 0.3183 - val_prc: 0.0526 - val_precision: 0.0000e+00 - val_recall: 0.0000e+00 - val_tn: 4716.0000 - val_tp: 0.0000e+00\n",
            "Epoch 7/100\n",
            "\u001b[1m5/5\u001b[0m \u001b[32m━━━━━━━━━━━━━━━━━━━━\u001b[0m\u001b[37m\u001b[0m \u001b[1m0s\u001b[0m 21ms/step - accuracy: 0.8979 - auc: 0.4859 - fn: 742.0000 - fp: 616.5000 - loss: 0.3562 - prc: 0.0571 - precision: 0.0608 - recall: 0.0515 - tn: 12086.8330 - tp: 39.3333 - val_accuracy: 0.9443 - val_auc: 0.4938 - val_fn: 278.0000 - val_fp: 0.0000e+00 - val_loss: 0.3016 - val_prc: 0.0522 - val_precision: 0.0000e+00 - val_recall: 0.0000e+00 - val_tn: 4716.0000 - val_tp: 0.0000e+00\n",
            "Epoch 8/100\n",
            "\u001b[1m5/5\u001b[0m \u001b[32m━━━━━━━━━━━━━━━━━━━━\u001b[0m\u001b[37m\u001b[0m \u001b[1m0s\u001b[0m 20ms/step - accuracy: 0.9118 - auc: 0.5075 - fn: 744.6667 - fp: 437.0000 - loss: 0.3311 - prc: 0.0585 - precision: 0.0613 - recall: 0.0375 - tn: 12273.6670 - tp: 29.3333 - val_accuracy: 0.9443 - val_auc: 0.4907 - val_fn: 278.0000 - val_fp: 0.0000e+00 - val_loss: 0.2879 - val_prc: 0.0518 - val_precision: 0.0000e+00 - val_recall: 0.0000e+00 - val_tn: 4716.0000 - val_tp: 0.0000e+00\n",
            "Epoch 9/100\n",
            "\u001b[1m5/5\u001b[0m \u001b[32m━━━━━━━━━━━━━━━━━━━━\u001b[0m\u001b[37m\u001b[0m \u001b[1m0s\u001b[0m 32ms/step - accuracy: 0.9160 - auc: 0.5114 - fn: 758.6667 - fp: 358.3333 - loss: 0.3164 - prc: 0.0595 - precision: 0.0517 - recall: 0.0256 - tn: 12347.5000 - tp: 20.1667 - val_accuracy: 0.9443 - val_auc: 0.4908 - val_fn: 278.0000 - val_fp: 0.0000e+00 - val_loss: 0.2767 - val_prc: 0.0518 - val_precision: 0.0000e+00 - val_recall: 0.0000e+00 - val_tn: 4716.0000 - val_tp: 0.0000e+00\n",
            "Epoch 10/100\n",
            "\u001b[1m5/5\u001b[0m \u001b[32m━━━━━━━━━━━━━━━━━━━━\u001b[0m\u001b[37m\u001b[0m \u001b[1m0s\u001b[0m 20ms/step - accuracy: 0.9233 - auc: 0.4917 - fn: 764.0000 - fp: 268.1667 - loss: 0.3124 - prc: 0.0581 - precision: 0.0598 - recall: 0.0220 - tn: 12435.3330 - tp: 17.1667 - val_accuracy: 0.9443 - val_auc: 0.4949 - val_fn: 278.0000 - val_fp: 0.0000e+00 - val_loss: 0.2675 - val_prc: 0.0523 - val_precision: 0.0000e+00 - val_recall: 0.0000e+00 - val_tn: 4716.0000 - val_tp: 0.0000e+00\n",
            "Epoch 11/100\n",
            "\u001b[1m5/5\u001b[0m \u001b[32m━━━━━━━━━━━━━━━━━━━━\u001b[0m\u001b[37m\u001b[0m \u001b[1m0s\u001b[0m 32ms/step - accuracy: 0.9272 - auc: 0.5116 - fn: 760.0000 - fp: 220.8333 - loss: 0.2982 - prc: 0.0584 - precision: 0.0567 - recall: 0.0174 - tn: 12491.5000 - tp: 12.3333 - val_accuracy: 0.9443 - val_auc: 0.4976 - val_fn: 278.0000 - val_fp: 0.0000e+00 - val_loss: 0.2600 - val_prc: 0.0528 - val_precision: 0.0000e+00 - val_recall: 0.0000e+00 - val_tn: 4716.0000 - val_tp: 0.0000e+00\n",
            "Epoch 11: early stopping\n",
            "Restoring model weights from the end of the best epoch: 1.\n"
          ]
        }
      ]
    },
    {
      "cell_type": "code",
      "source": [
        "def plot_metrics(history):\n",
        "  metrics = ['loss', 'prc', 'precision', 'recall']\n",
        "  for n, metric in enumerate(metrics):\n",
        "    name = metric.replace(\"_\",\" \").capitalize()\n",
        "    plt.subplot(2,2,n+1)\n",
        "    plt.plot(history.epoch, history.history[metric], color=colors[0], label='Train')\n",
        "    plt.plot(history.epoch, history.history['val_'+metric],\n",
        "             color=colors[0], linestyle=\"--\", label='Val')\n",
        "    plt.xlabel('Epoch')\n",
        "    plt.ylabel(name)\n",
        "    if metric == 'loss':\n",
        "      plt.ylim([0, plt.ylim()[1]])\n",
        "    elif metric == 'auc':\n",
        "      plt.ylim([0.8,1])\n",
        "    else:\n",
        "      plt.ylim([0,1])\n",
        "\n",
        "    plt.legend()"
      ],
      "metadata": {
        "id": "MKgNexKAb5LE"
      },
      "execution_count": 171,
      "outputs": []
    },
    {
      "cell_type": "code",
      "source": [
        "plot_metrics(baseline_history)\n"
      ],
      "metadata": {
        "colab": {
          "base_uri": "https://localhost:8080/",
          "height": 855
        },
        "id": "uycQXxN9dLDa",
        "outputId": "136ba3b5-0a86-408a-8432-2095c63c06ad"
      },
      "execution_count": 172,
      "outputs": [
        {
          "output_type": "display_data",
          "data": {
            "text/plain": [
              "<Figure size 1200x1000 with 4 Axes>"
            ],
            "image/png": "[encoded data removed]"
          },
          "metadata": {}
        }
      ]
    },
    {
      "cell_type": "code",
      "source": [
        "train_predictions_baseline = model.predict(x_train, batch_size=BATCH_SIZE)\n",
        "test_predictions_baseline = model.predict(x_val, batch_size=BATCH_SIZE)"
      ],
      "metadata": {
        "colab": {
          "base_uri": "https://localhost:8080/"
        },
        "id": "EZm8xDUvdp8W",
        "outputId": "46b853ab-d895-4b37-8e0b-e710c6e4cab3"
      },
      "execution_count": 173,
      "outputs": [
        {
          "output_type": "stream",
          "name": "stdout",
          "text": [
            "\u001b[1m5/5\u001b[0m \u001b[32m━━━━━━━━━━━━━━━━━━━━\u001b[0m\u001b[37m\u001b[0m \u001b[1m0s\u001b[0m 56ms/step\n",
            "\u001b[1m2/2\u001b[0m \u001b[32m━━━━━━━━━━━━━━━━━━━━\u001b[0m\u001b[37m\u001b[0m \u001b[1m0s\u001b[0m 235ms/step\n"
          ]
        }
      ]
    },
    {
      "cell_type": "code",
      "source": [
        "def plot_cm(labels, predictions, p=0.5):\n",
        "  cm = confusion_matrix(labels, predictions > p)\n",
        "  plt.figure(figsize=(5,5))\n",
        "  sns.heatmap(cm, annot=True, fmt=\"d\")\n",
        "  plt.title('Confusion matrix @{:.2f}'.format(p))\n",
        "  plt.ylabel('Actual label')\n",
        "  plt.xlabel('Predicted label')\n",
        "\n",
        "  print('Legitimate Transactions Detected (True Negatives): ', cm[0][0])\n",
        "  print('Legitimate Transactions Incorrectly Detected (False Positives): ', cm[0][1])\n",
        "  print('Fraudulent Transactions Missed (False Negatives): ', cm[1][0])\n",
        "  print('Fraudulent Transactions Detected (True Positives): ', cm[1][1])\n",
        "  print('Total Fraudulent Transactions: ', np.sum(cm[1]))"
      ],
      "metadata": {
        "id": "XWxZ-vKOnwqT"
      },
      "execution_count": 174,
      "outputs": []
    },
    {
      "cell_type": "code",
      "source": [
        "baseline_results = model.evaluate(x_val, y_val,\n",
        "                                  batch_size=BATCH_SIZE, verbose=0)\n",
        "for name, value in zip(model.metrics_names, baseline_results):\n",
        "  print(name, ': ', value)\n",
        "print()\n",
        "\n",
        "plot_cm(y_val, test_predictions_baseline)"
      ],
      "metadata": {
        "colab": {
          "base_uri": "https://localhost:8080/",
          "height": 632
        },
        "id": "7cvFaD9Inwtu",
        "outputId": "445e8392-b958-417d-b0ca-8718efd89cc3"
      },
      "execution_count": 175,
      "outputs": [
        {
          "output_type": "stream",
          "name": "stdout",
          "text": [
            "loss :  0.47221606969833374\n",
            "compile_metrics :  0.0\n",
            "\n",
            "Legitimate Transactions Detected (True Negatives):  4704\n",
            "Legitimate Transactions Incorrectly Detected (False Positives):  12\n",
            "Fraudulent Transactions Missed (False Negatives):  278\n",
            "Fraudulent Transactions Detected (True Positives):  0\n",
            "Total Fraudulent Transactions:  278\n"
          ]
        },
        {
          "output_type": "display_data",
          "data": {
            "text/plain": [
              "<Figure size 500x500 with 2 Axes>"
            ],
            "image/png": "[encoded data removed]"
          },
          "metadata": {}
        }
      ]
    },
    {
      "cell_type": "code",
      "source": [
        "# Scaling by total/2 helps keep the loss to a similar magnitude.\n",
        "# The sum of the weights of all examples stays the same.\n",
        "weight_for_0 = (1 / neg) * (total / 2.0)\n",
        "weight_for_1 = (1 / pos) * (total / 2.0)\n",
        "\n",
        "class_weight = {0: weight_for_0, 1: weight_for_1}\n",
        "\n",
        "print('Weight for class 0: {:.2f}'.format(weight_for_0))\n",
        "print('Weight for class 1: {:.2f}'.format(weight_for_1))"
      ],
      "metadata": {
        "colab": {
          "base_uri": "https://localhost:8080/"
        },
        "id": "CrXtgVElpi5M",
        "outputId": "0871f2c2-dd33-4527-cdf0-4d55ef50ba14"
      },
      "execution_count": 176,
      "outputs": [
        {
          "output_type": "stream",
          "name": "stdout",
          "text": [
            "Weight for class 0: 0.53\n",
            "Weight for class 1: 8.77\n"
          ]
        }
      ]
    },
    {
      "cell_type": "code",
      "source": [
        "weighted_model = make_model()\n",
        "weighted_model.load_weights(initial_weights_path)\n",
        "\n",
        "weighted_history = weighted_model.fit(\n",
        "    x_train,\n",
        "    y_train,\n",
        "    batch_size=BATCH_SIZE,\n",
        "    epochs=EPOCHS,\n",
        "    callbacks=[early_stopping],\n",
        "    validation_data=(x_val, y_val),\n",
        "    class_weight=class_weight,\n",
        "    verbose=1)\n"
      ],
      "metadata": {
        "colab": {
          "base_uri": "https://localhost:8080/",
          "height": 370
        },
        "id": "PzQZ6HpYtBf3",
        "outputId": "cb3baffd-25a8-4162-aa28-d77959e94162"
      },
      "execution_count": 178,
      "outputs": [
        {
          "output_type": "error",
          "ename": "ValueError",
          "evalue": "No axis named -1 for object type DataFrame",
          "traceback": [
            "\u001b[0;31m---------------------------------------------------------------------------\u001b[0m",
            "\u001b[0;31mValueError\u001b[0m                                Traceback (most recent call last)",
            "\u001b[0;32m<ipython-input-178-04ee24f8f0a6>\u001b[0m in \u001b[0;36m<cell line: 4>\u001b[0;34m()\u001b[0m\n\u001b[1;32m      2\u001b[0m \u001b[0mweighted_model\u001b[0m\u001b[0;34m.\u001b[0m\u001b[0mload_weights\u001b[0m\u001b[0;34m(\u001b[0m\u001b[0minitial_weights_path\u001b[0m\u001b[0;34m)\u001b[0m\u001b[0;34m\u001b[0m\u001b[0;34m\u001b[0m\u001b[0m\n\u001b[1;32m      3\u001b[0m \u001b[0;34m\u001b[0m\u001b[0m\n\u001b[0;32m----> 4\u001b[0;31m weighted_history = weighted_model.fit(\n\u001b[0m\u001b[1;32m      5\u001b[0m     \u001b[0mx_train\u001b[0m\u001b[0;34m,\u001b[0m\u001b[0;34m\u001b[0m\u001b[0;34m\u001b[0m\u001b[0m\n\u001b[1;32m      6\u001b[0m     \u001b[0my_train\u001b[0m\u001b[0;34m,\u001b[0m\u001b[0;34m\u001b[0m\u001b[0;34m\u001b[0m\u001b[0m\n",
            "\u001b[0;32m/usr/local/lib/python3.10/dist-packages/keras/src/utils/traceback_utils.py\u001b[0m in \u001b[0;36merror_handler\u001b[0;34m(*args, **kwargs)\u001b[0m\n\u001b[1;32m    120\u001b[0m             \u001b[0;31m# To get the full stack trace, call:\u001b[0m\u001b[0;34m\u001b[0m\u001b[0;34m\u001b[0m\u001b[0m\n\u001b[1;32m    121\u001b[0m             \u001b[0;31m# `keras.config.disable_traceback_filtering()`\u001b[0m\u001b[0;34m\u001b[0m\u001b[0;34m\u001b[0m\u001b[0m\n\u001b[0;32m--> 122\u001b[0;31m             \u001b[0;32mraise\u001b[0m \u001b[0me\u001b[0m\u001b[0;34m.\u001b[0m\u001b[0mwith_traceback\u001b[0m\u001b[0;34m(\u001b[0m\u001b[0mfiltered_tb\u001b[0m\u001b[0;34m)\u001b[0m \u001b[0;32mfrom\u001b[0m \u001b[0;32mNone\u001b[0m\u001b[0;34m\u001b[0m\u001b[0;34m\u001b[0m\u001b[0m\n\u001b[0m\u001b[1;32m    123\u001b[0m         \u001b[0;32mfinally\u001b[0m\u001b[0;34m:\u001b[0m\u001b[0;34m\u001b[0m\u001b[0;34m\u001b[0m\u001b[0m\n\u001b[1;32m    124\u001b[0m             \u001b[0;32mdel\u001b[0m \u001b[0mfiltered_tb\u001b[0m\u001b[0;34m\u001b[0m\u001b[0;34m\u001b[0m\u001b[0m\n",
            "\u001b[0;32m/usr/local/lib/python3.10/dist-packages/numpy/core/fromnumeric.py\u001b[0m in \u001b[0;36msqueeze\u001b[0;34m(a, axis)\u001b[0m\n\u001b[1;32m   1556\u001b[0m         \u001b[0;32mreturn\u001b[0m \u001b[0msqueeze\u001b[0m\u001b[0;34m(\u001b[0m\u001b[0;34m)\u001b[0m\u001b[0;34m\u001b[0m\u001b[0;34m\u001b[0m\u001b[0m\n\u001b[1;32m   1557\u001b[0m     \u001b[0;32melse\u001b[0m\u001b[0;34m:\u001b[0m\u001b[0;34m\u001b[0m\u001b[0;34m\u001b[0m\u001b[0m\n\u001b[0;32m-> 1558\u001b[0;31m         \u001b[0;32mreturn\u001b[0m \u001b[0msqueeze\u001b[0m\u001b[0;34m(\u001b[0m\u001b[0maxis\u001b[0m\u001b[0;34m=\u001b[0m\u001b[0maxis\u001b[0m\u001b[0;34m)\u001b[0m\u001b[0;34m\u001b[0m\u001b[0;34m\u001b[0m\u001b[0m\n\u001b[0m\u001b[1;32m   1559\u001b[0m \u001b[0;34m\u001b[0m\u001b[0m\n\u001b[1;32m   1560\u001b[0m \u001b[0;34m\u001b[0m\u001b[0m\n",
            "\u001b[0;32m/usr/local/lib/python3.10/dist-packages/pandas/core/generic.py\u001b[0m in \u001b[0;36msqueeze\u001b[0;34m(self, axis)\u001b[0m\n\u001b[1;32m   1008\u001b[0m         \u001b[0;36m1\u001b[0m\u001b[0;34m\u001b[0m\u001b[0;34m\u001b[0m\u001b[0m\n\u001b[1;32m   1009\u001b[0m         \"\"\"\n\u001b[0;32m-> 1010\u001b[0;31m         \u001b[0maxes\u001b[0m \u001b[0;34m=\u001b[0m \u001b[0mrange\u001b[0m\u001b[0;34m(\u001b[0m\u001b[0mself\u001b[0m\u001b[0;34m.\u001b[0m\u001b[0m_AXIS_LEN\u001b[0m\u001b[0;34m)\u001b[0m \u001b[0;32mif\u001b[0m \u001b[0maxis\u001b[0m \u001b[0;32mis\u001b[0m \u001b[0;32mNone\u001b[0m \u001b[0;32melse\u001b[0m \u001b[0;34m(\u001b[0m\u001b[0mself\u001b[0m\u001b[0;34m.\u001b[0m\u001b[0m_get_axis_number\u001b[0m\u001b[0;34m(\u001b[0m\u001b[0maxis\u001b[0m\u001b[0;34m)\u001b[0m\u001b[0;34m,\u001b[0m\u001b[0;34m)\u001b[0m\u001b[0;34m\u001b[0m\u001b[0;34m\u001b[0m\u001b[0m\n\u001b[0m\u001b[1;32m   1011\u001b[0m         result = self.iloc[\n\u001b[1;32m   1012\u001b[0m             tuple(\n",
            "\u001b[0;32m/usr/local/lib/python3.10/dist-packages/pandas/core/generic.py\u001b[0m in \u001b[0;36m_get_axis_number\u001b[0;34m(cls, axis)\u001b[0m\n\u001b[1;32m    552\u001b[0m             \u001b[0;32mreturn\u001b[0m \u001b[0mcls\u001b[0m\u001b[0;34m.\u001b[0m\u001b[0m_AXIS_TO_AXIS_NUMBER\u001b[0m\u001b[0;34m[\u001b[0m\u001b[0maxis\u001b[0m\u001b[0;34m]\u001b[0m\u001b[0;34m\u001b[0m\u001b[0;34m\u001b[0m\u001b[0m\n\u001b[1;32m    553\u001b[0m         \u001b[0;32mexcept\u001b[0m \u001b[0mKeyError\u001b[0m\u001b[0;34m:\u001b[0m\u001b[0;34m\u001b[0m\u001b[0;34m\u001b[0m\u001b[0m\n\u001b[0;32m--> 554\u001b[0;31m             \u001b[0;32mraise\u001b[0m \u001b[0mValueError\u001b[0m\u001b[0;34m(\u001b[0m\u001b[0;34mf\"No axis named {axis} for object type {cls.__name__}\"\u001b[0m\u001b[0;34m)\u001b[0m\u001b[0;34m\u001b[0m\u001b[0;34m\u001b[0m\u001b[0m\n\u001b[0m\u001b[1;32m    555\u001b[0m \u001b[0;34m\u001b[0m\u001b[0m\n\u001b[1;32m    556\u001b[0m     \u001b[0;34m@\u001b[0m\u001b[0mfinal\u001b[0m\u001b[0;34m\u001b[0m\u001b[0;34m\u001b[0m\u001b[0m\n",
            "\u001b[0;31mValueError\u001b[0m: No axis named -1 for object type DataFrame"
          ]
        }
      ]
    }
  ]
}